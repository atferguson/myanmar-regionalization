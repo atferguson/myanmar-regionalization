{
 "cells": [
  {
   "cell_type": "markdown",
   "id": "19cb39af-ec3d-4f17-ad0f-028c03b997e7",
   "metadata": {},
   "source": [
    "## Hypothesis\n",
    "\n",
    "This project aims to study the hypothesis that regions with high population density are more prone to terror attacks in Myanmar."
   ]
  },
  {
   "cell_type": "code",
   "execution_count": 1,
   "id": "01144384-626c-4816-a5bb-55a027d77ff7",
   "metadata": {},
   "outputs": [],
   "source": [
    "import pandas as pd\n",
    "import os\n",
    "from shapely.geometry import Point\n",
    "import geopandas as gpd\n",
    "from geopandas import GeoDataFrame\n",
    "import matplotlib.pyplot as plt\n",
    "import seaborn as sns\n",
    "from sklearn import cluster\n",
    "from libpysal.weights import Queen, Rook, KNN\n",
    "from esda.moran import Moran\n",
    "from sklearn.preprocessing import robust_scale\n",
    "from sklearn.cluster import AgglomerativeClustering\n",
    "import numpy as np\n",
    "\n",
    "sns.set(style='whitegrid')\n",
    "%matplotlib inline"
   ]
  },
  {
   "cell_type": "markdown",
   "id": "74822572-7837-49da-b286-e13386bb6b75",
   "metadata": {},
   "source": [
    "## Note: using the OS library, this notebook will run on any device as long as the data folder is not moved relative to the .ipynb"
   ]
  },
  {
   "cell_type": "code",
   "execution_count": 2,
   "id": "eeb9197a-0e46-415a-94cf-7a86bedb5eca",
   "metadata": {},
   "outputs": [
    {
     "data": {
      "text/plain": [
       "'C:\\\\Users\\\\andre\\\\OneDrive\\\\Desktop\\\\USC\\\\SSCI575\\\\Project4'"
      ]
     },
     "execution_count": 2,
     "metadata": {},
     "output_type": "execute_result"
    }
   ],
   "source": [
    "dirname = os.getcwd()\n",
    "dirname"
   ]
  },
  {
   "cell_type": "markdown",
   "id": "7d9dfb96-be88-40c8-bd2d-f495bf3adb8c",
   "metadata": {},
   "source": [
    "## Read files into geodataframes and set projections"
   ]
  },
  {
   "cell_type": "markdown",
   "id": "ed0fd23c-f4dc-45f4-8f1c-2c341bac4ae7",
   "metadata": {},
   "source": [
    "**Read terror attack xy table (.csv) into dataframe and convert to geodataframe**\n",
    "\n",
    "Terror date range: Jan 1, 2015 - Nov 26, 2022"
   ]
  },
  {
   "cell_type": "code",
   "execution_count": 3,
   "id": "95914476-dcc3-4ccd-85dd-8751443b22b1",
   "metadata": {},
   "outputs": [],
   "source": [
    "terror_df = pd.read_csv(os.path.join(dirname, \"Data\\\\terror.csv\"))\n",
    "geometry = [Point(xy) for xy in zip(terror_df.longitude, terror_df.latitude)]\n",
    "crs = ('epsg:4326') #ACLED CRS (data source)\n",
    "terror_gdf = GeoDataFrame(terror_df, crs = crs, geometry = geometry)\n",
    "terror_gdf = terror_gdf.to_crs(epsg=24305) #Project CRS. Per https://epsg.io/?q=myanmar%20kind%3APROJCRS"
   ]
  },
  {
   "cell_type": "code",
   "execution_count": 4,
   "id": "8487f270-e786-4151-b1a3-c62ae8a55425",
   "metadata": {},
   "outputs": [
    {
     "data": {
      "text/html": [
       "<div>\n",
       "<style scoped>\n",
       "    .dataframe tbody tr th:only-of-type {\n",
       "        vertical-align: middle;\n",
       "    }\n",
       "\n",
       "    .dataframe tbody tr th {\n",
       "        vertical-align: top;\n",
       "    }\n",
       "\n",
       "    .dataframe thead th {\n",
       "        text-align: right;\n",
       "    }\n",
       "</style>\n",
       "<table border=\"1\" class=\"dataframe\">\n",
       "  <thead>\n",
       "    <tr style=\"text-align: right;\">\n",
       "      <th></th>\n",
       "      <th>data_id</th>\n",
       "      <th>iso</th>\n",
       "      <th>event_id_cnty</th>\n",
       "      <th>event_id_no_cnty</th>\n",
       "      <th>event_date</th>\n",
       "      <th>year</th>\n",
       "      <th>time_precision</th>\n",
       "      <th>event_type</th>\n",
       "      <th>sub_event_type</th>\n",
       "      <th>actor1</th>\n",
       "      <th>...</th>\n",
       "      <th>latitude</th>\n",
       "      <th>longitude</th>\n",
       "      <th>geo_precision</th>\n",
       "      <th>source</th>\n",
       "      <th>source_scale</th>\n",
       "      <th>notes</th>\n",
       "      <th>fatalities</th>\n",
       "      <th>timestamp</th>\n",
       "      <th>iso3</th>\n",
       "      <th>geometry</th>\n",
       "    </tr>\n",
       "  </thead>\n",
       "  <tbody>\n",
       "    <tr>\n",
       "      <th>0</th>\n",
       "      <td>9663925</td>\n",
       "      <td>104</td>\n",
       "      <td>MMR42021</td>\n",
       "      <td>42021</td>\n",
       "      <td>18 November 2022</td>\n",
       "      <td>2022</td>\n",
       "      <td>1</td>\n",
       "      <td>Explosions/Remote violence</td>\n",
       "      <td>Shelling/artillery/missile attack</td>\n",
       "      <td>Military Forces of Myanmar (2021-)</td>\n",
       "      <td>...</td>\n",
       "      <td>22.7180</td>\n",
       "      <td>95.5473</td>\n",
       "      <td>2</td>\n",
       "      <td>Radio Free Asia; Khit Thit Media</td>\n",
       "      <td>National-Regional</td>\n",
       "      <td>On 18 November 2022, near Ma Ni Kone village (...</td>\n",
       "      <td>2</td>\n",
       "      <td>1669128215</td>\n",
       "      <td>MMR</td>\n",
       "      <td>POINT (1380291.215 2537496.376)</td>\n",
       "    </tr>\n",
       "    <tr>\n",
       "      <th>1</th>\n",
       "      <td>9663953</td>\n",
       "      <td>104</td>\n",
       "      <td>MMR42084</td>\n",
       "      <td>42084</td>\n",
       "      <td>18 November 2022</td>\n",
       "      <td>2022</td>\n",
       "      <td>1</td>\n",
       "      <td>Protests</td>\n",
       "      <td>Peaceful protest</td>\n",
       "      <td>Protesters (Myanmar)</td>\n",
       "      <td>...</td>\n",
       "      <td>22.1086</td>\n",
       "      <td>95.1358</td>\n",
       "      <td>2</td>\n",
       "      <td>Myanmar Labour News; Khit Thit Media</td>\n",
       "      <td>National</td>\n",
       "      <td>On 18 November 2022, on the West Chindwin Rive...</td>\n",
       "      <td>0</td>\n",
       "      <td>1669128215</td>\n",
       "      <td>MMR</td>\n",
       "      <td>POINT (1341419.334 2467143.031)</td>\n",
       "    </tr>\n",
       "    <tr>\n",
       "      <th>2</th>\n",
       "      <td>9663980</td>\n",
       "      <td>104</td>\n",
       "      <td>MMR42145</td>\n",
       "      <td>42145</td>\n",
       "      <td>18 November 2022</td>\n",
       "      <td>2022</td>\n",
       "      <td>1</td>\n",
       "      <td>Battles</td>\n",
       "      <td>Armed clash</td>\n",
       "      <td>Military Forces of Myanmar (2021-)</td>\n",
       "      <td>...</td>\n",
       "      <td>21.1310</td>\n",
       "      <td>92.3540</td>\n",
       "      <td>2</td>\n",
       "      <td>Myanmar Now; Democratic Voice of Burma</td>\n",
       "      <td>National</td>\n",
       "      <td>On 18 November 2022, between Wet Kyein (Myo) a...</td>\n",
       "      <td>0</td>\n",
       "      <td>1669128215</td>\n",
       "      <td>MMR</td>\n",
       "      <td>POINT (1056790.225 2345754.159)</td>\n",
       "    </tr>\n",
       "  </tbody>\n",
       "</table>\n",
       "<p>3 rows × 32 columns</p>\n",
       "</div>"
      ],
      "text/plain": [
       "   data_id  iso event_id_cnty  event_id_no_cnty        event_date  year  \\\n",
       "0  9663925  104      MMR42021             42021  18 November 2022  2022   \n",
       "1  9663953  104      MMR42084             42084  18 November 2022  2022   \n",
       "2  9663980  104      MMR42145             42145  18 November 2022  2022   \n",
       "\n",
       "   time_precision                  event_type  \\\n",
       "0               1  Explosions/Remote violence   \n",
       "1               1                    Protests   \n",
       "2               1                     Battles   \n",
       "\n",
       "                      sub_event_type                              actor1  ...  \\\n",
       "0  Shelling/artillery/missile attack  Military Forces of Myanmar (2021-)  ...   \n",
       "1                   Peaceful protest                Protesters (Myanmar)  ...   \n",
       "2                        Armed clash  Military Forces of Myanmar (2021-)  ...   \n",
       "\n",
       "  latitude  longitude geo_precision                                  source  \\\n",
       "0  22.7180    95.5473             2        Radio Free Asia; Khit Thit Media   \n",
       "1  22.1086    95.1358             2    Myanmar Labour News; Khit Thit Media   \n",
       "2  21.1310    92.3540             2  Myanmar Now; Democratic Voice of Burma   \n",
       "\n",
       "        source_scale                                              notes  \\\n",
       "0  National-Regional  On 18 November 2022, near Ma Ni Kone village (...   \n",
       "1           National  On 18 November 2022, on the West Chindwin Rive...   \n",
       "2           National  On 18 November 2022, between Wet Kyein (Myo) a...   \n",
       "\n",
       "  fatalities   timestamp iso3                         geometry  \n",
       "0          2  1669128215  MMR  POINT (1380291.215 2537496.376)  \n",
       "1          0  1669128215  MMR  POINT (1341419.334 2467143.031)  \n",
       "2          0  1669128215  MMR  POINT (1056790.225 2345754.159)  \n",
       "\n",
       "[3 rows x 32 columns]"
      ]
     },
     "execution_count": 4,
     "metadata": {},
     "output_type": "execute_result"
    }
   ],
   "source": [
    "terror_gdf.head(3)"
   ]
  },
  {
   "cell_type": "markdown",
   "id": "21286076-1076-4101-a823-bc87c7116d9a",
   "metadata": {},
   "source": [
    "**Read district population data into df and join the total population column to the district boundary gdf**\n",
    "\n",
    "Also, set crs"
   ]
  },
  {
   "cell_type": "code",
   "execution_count": 5,
   "id": "2fa81244-bfb9-4735-8a17-763d960de6eb",
   "metadata": {},
   "outputs": [],
   "source": [
    "#Read population dataframe into pandas df\n",
    "pop_df = pd.read_csv(os.path.join(dirname, 'Data\\\\pop_adm_2.csv'))"
   ]
  },
  {
   "cell_type": "code",
   "execution_count": 6,
   "id": "f6fbe5b1-f663-4fdc-9ee3-c9348389dc8d",
   "metadata": {},
   "outputs": [
    {
     "data": {
      "text/plain": [
       "Index(['year', 'ISO3', 'ADM0_EN', 'ADM0_PCODE', 'ADM1_EN', 'ADM1_PCODE',\n",
       "       'ADM2_EN', 'ADM2_PCODE', 'F_TL', 'M_TL', 'T_TL', 'F_00_04', 'F_05_09',\n",
       "       'F_10_14', 'F_15_19', 'F_20_24', 'F_25_29', 'F_30_34', 'F_35_39',\n",
       "       'F_40_44', 'F_45_49', 'F_50_54', 'F_55_59', 'F_60_64', 'F_65_69',\n",
       "       'F_70_74', 'F_75_79', 'F_80_84', 'F_85_89', 'F_90Plus', 'M_00_04',\n",
       "       'M_05_09', 'M_10_14', 'M_15_19', 'M_20_24', 'M_25_29', 'M_30_34',\n",
       "       'M_35_39', 'M_40_44', 'M_45_49', 'M_50_54', 'M_55_59', 'M_60_64',\n",
       "       'M_65_69', 'M_70_74', 'M_75_79', 'M_80_84', 'M_85_89', 'M_90Plus',\n",
       "       'T_00_04', 'T_05_09', 'T_10_14', 'T_15_19', 'T_20_24', 'T_25_29',\n",
       "       'T_30_34', 'T_35_39', 'T_40_44', 'T_45_49', 'T_50_54', 'T_55_59',\n",
       "       'T_60_64', 'T_65_69', 'T_70_74', 'T_75_79', 'T_80_84', 'T_85_89',\n",
       "       'T_90Plus'],\n",
       "      dtype='object')"
      ]
     },
     "execution_count": 6,
     "metadata": {},
     "output_type": "execute_result"
    }
   ],
   "source": [
    "pop_df.columns"
   ]
  },
  {
   "cell_type": "code",
   "execution_count": 7,
   "id": "5d815d3e-126f-4ec7-9f40-c44a5e14aa1f",
   "metadata": {},
   "outputs": [
    {
     "name": "stdout",
     "output_type": "stream",
     "text": [
      "80\n"
     ]
    },
    {
     "data": {
      "text/plain": [
       "0"
      ]
     },
     "execution_count": 7,
     "metadata": {},
     "output_type": "execute_result"
    }
   ],
   "source": [
    "print(len(pop_df))\n",
    "pop_df['T_TL'].isna().sum()"
   ]
  },
  {
   "cell_type": "code",
   "execution_count": 8,
   "id": "8eee2a33-0262-4780-9241-b2b1db1b1202",
   "metadata": {},
   "outputs": [
    {
     "data": {
      "text/html": [
       "<div>\n",
       "<style scoped>\n",
       "    .dataframe tbody tr th:only-of-type {\n",
       "        vertical-align: middle;\n",
       "    }\n",
       "\n",
       "    .dataframe tbody tr th {\n",
       "        vertical-align: top;\n",
       "    }\n",
       "\n",
       "    .dataframe thead th {\n",
       "        text-align: right;\n",
       "    }\n",
       "</style>\n",
       "<table border=\"1\" class=\"dataframe\">\n",
       "  <thead>\n",
       "    <tr style=\"text-align: right;\">\n",
       "      <th></th>\n",
       "      <th>OBJECTID</th>\n",
       "      <th>ST</th>\n",
       "      <th>ST_PCODE</th>\n",
       "      <th>DT</th>\n",
       "      <th>DT_PCODE</th>\n",
       "      <th>DT_MMR4</th>\n",
       "      <th>S_ADMIN</th>\n",
       "      <th>PCode_V</th>\n",
       "      <th>geometry</th>\n",
       "    </tr>\n",
       "  </thead>\n",
       "  <tbody>\n",
       "    <tr>\n",
       "      <th>0</th>\n",
       "      <td>0.0</td>\n",
       "      <td>Ayeyarwady</td>\n",
       "      <td>MMR017</td>\n",
       "      <td>Hinthada</td>\n",
       "      <td>MMR017D002</td>\n",
       "      <td>áááºá¹áá¬áááá­á¯ááº</td>\n",
       "      <td>None</td>\n",
       "      <td>9.3</td>\n",
       "      <td>POLYGON ((1360350.985 2065240.167, 1360711.674...</td>\n",
       "    </tr>\n",
       "    <tr>\n",
       "      <th>1</th>\n",
       "      <td>1.0</td>\n",
       "      <td>Ayeyarwady</td>\n",
       "      <td>MMR017</td>\n",
       "      <td>Labutta</td>\n",
       "      <td>MMR017D004</td>\n",
       "      <td>ááá½áá¹áá¬ááá­á¯ááº</td>\n",
       "      <td>None</td>\n",
       "      <td>9.3</td>\n",
       "      <td>MULTIPOLYGON (((1366173.997 1757168.684, 13662...</td>\n",
       "    </tr>\n",
       "    <tr>\n",
       "      <th>2</th>\n",
       "      <td>2.0</td>\n",
       "      <td>Ayeyarwady</td>\n",
       "      <td>MMR017</td>\n",
       "      <td>Maubin</td>\n",
       "      <td>MMR017D005</td>\n",
       "      <td>áá¡á°áááºááá­á¯ááº</td>\n",
       "      <td>None</td>\n",
       "      <td>9.3</td>\n",
       "      <td>POLYGON ((1393141.870 1944376.654, 1393406.699...</td>\n",
       "    </tr>\n",
       "    <tr>\n",
       "      <th>3</th>\n",
       "      <td>3.0</td>\n",
       "      <td>Ayeyarwady</td>\n",
       "      <td>MMR017</td>\n",
       "      <td>Myaungmya</td>\n",
       "      <td>MMR017D003</td>\n",
       "      <td>áá¼á±á¬ááºá¸áá¼ááá­á¯ááº</td>\n",
       "      <td>None</td>\n",
       "      <td>9.3</td>\n",
       "      <td>POLYGON ((1378067.102 1890161.506, 1378255.867...</td>\n",
       "    </tr>\n",
       "    <tr>\n",
       "      <th>4</th>\n",
       "      <td>4.0</td>\n",
       "      <td>Ayeyarwady</td>\n",
       "      <td>MMR017</td>\n",
       "      <td>Pathein</td>\n",
       "      <td>MMR017D001</td>\n",
       "      <td>áá¯áá­ááºááá­á¯ááº</td>\n",
       "      <td>None</td>\n",
       "      <td>9.3</td>\n",
       "      <td>MULTIPOLYGON (((1281016.769 1766685.377, 12809...</td>\n",
       "    </tr>\n",
       "  </tbody>\n",
       "</table>\n",
       "</div>"
      ],
      "text/plain": [
       "   OBJECTID          ST ST_PCODE         DT    DT_PCODE  \\\n",
       "0       0.0  Ayeyarwady   MMR017   Hinthada  MMR017D002   \n",
       "1       1.0  Ayeyarwady   MMR017    Labutta  MMR017D004   \n",
       "2       2.0  Ayeyarwady   MMR017     Maubin  MMR017D005   \n",
       "3       3.0  Ayeyarwady   MMR017  Myaungmya  MMR017D003   \n",
       "4       4.0  Ayeyarwady   MMR017    Pathein  MMR017D001   \n",
       "\n",
       "                                         DT_MMR4 S_ADMIN PCode_V  \\\n",
       "0        áááºá¹áá¬áááá­á¯ááº    None     9.3   \n",
       "1        ááá½áá¹áá¬ááá­á¯ááº    None     9.3   \n",
       "2           áá¡á°áááºááá­á¯ááº    None     9.3   \n",
       "3  áá¼á±á¬ááºá¸áá¼ááá­á¯ááº    None     9.3   \n",
       "4           áá¯áá­ááºááá­á¯ááº    None     9.3   \n",
       "\n",
       "                                            geometry  \n",
       "0  POLYGON ((1360350.985 2065240.167, 1360711.674...  \n",
       "1  MULTIPOLYGON (((1366173.997 1757168.684, 13662...  \n",
       "2  POLYGON ((1393141.870 1944376.654, 1393406.699...  \n",
       "3  POLYGON ((1378067.102 1890161.506, 1378255.867...  \n",
       "4  MULTIPOLYGON (((1281016.769 1766685.377, 12809...  "
      ]
     },
     "execution_count": 8,
     "metadata": {},
     "output_type": "execute_result"
    }
   ],
   "source": [
    "#Read district boundary shapefile into geodataframe\n",
    "dt_gdf = gpd.read_file(os.path.join(dirname, 'Data\\DistrictBoundaries\\DistrictBoundaries.shp'))\n",
    "dt_gdf = dt_gdf.to_crs(epsg=24305)\n",
    "dt_gdf.head()"
   ]
  },
  {
   "cell_type": "code",
   "execution_count": 9,
   "id": "9aacf307-3d2b-4c71-a2fd-ca438e54b220",
   "metadata": {},
   "outputs": [
    {
     "data": {
      "text/plain": [
       "Index(['OBJECTID', 'ST', 'ST_PCODE', 'DT', 'DT_PCODE', 'DT_MMR4', 'S_ADMIN',\n",
       "       'PCode_V', 'geometry'],\n",
       "      dtype='object')"
      ]
     },
     "execution_count": 9,
     "metadata": {},
     "output_type": "execute_result"
    }
   ],
   "source": [
    "dt_gdf.columns"
   ]
  },
  {
   "cell_type": "code",
   "execution_count": 10,
   "id": "7867ee2c-900b-473a-967a-768f030ac8f2",
   "metadata": {},
   "outputs": [],
   "source": [
    "#Rename key column to match with population df\n",
    "dt_gdf =dt_gdf.rename(columns={'DT_PCODE':'ADM2_PCODE'})\n",
    "#Join fields confirmed via https://data.humdata.org/dataset/cod-ps-mmr"
   ]
  },
  {
   "cell_type": "code",
   "execution_count": 11,
   "id": "0c91aa2c-bc71-43b3-b209-20365745ee25",
   "metadata": {},
   "outputs": [],
   "source": [
    "#Attribute join total population per district into the geodataframe\n",
    "pop_gdf = pd.merge(dt_gdf,pop_df[['ADM2_PCODE','T_TL']],on='ADM2_PCODE', how='left')"
   ]
  },
  {
   "cell_type": "code",
   "execution_count": 12,
   "id": "fecd37ee-45e9-4fef-8138-c5243e85260a",
   "metadata": {
    "tags": []
   },
   "outputs": [
    {
     "data": {
      "text/html": [
       "<div>\n",
       "<style scoped>\n",
       "    .dataframe tbody tr th:only-of-type {\n",
       "        vertical-align: middle;\n",
       "    }\n",
       "\n",
       "    .dataframe tbody tr th {\n",
       "        vertical-align: top;\n",
       "    }\n",
       "\n",
       "    .dataframe thead th {\n",
       "        text-align: right;\n",
       "    }\n",
       "</style>\n",
       "<table border=\"1\" class=\"dataframe\">\n",
       "  <thead>\n",
       "    <tr style=\"text-align: right;\">\n",
       "      <th></th>\n",
       "      <th>OBJECTID</th>\n",
       "      <th>ST</th>\n",
       "      <th>ST_PCODE</th>\n",
       "      <th>DT</th>\n",
       "      <th>ADM2_PCODE</th>\n",
       "      <th>DT_MMR4</th>\n",
       "      <th>S_ADMIN</th>\n",
       "      <th>PCode_V</th>\n",
       "      <th>geometry</th>\n",
       "      <th>T_TL</th>\n",
       "    </tr>\n",
       "  </thead>\n",
       "  <tbody>\n",
       "    <tr>\n",
       "      <th>0</th>\n",
       "      <td>0.0</td>\n",
       "      <td>Ayeyarwady</td>\n",
       "      <td>MMR017</td>\n",
       "      <td>Hinthada</td>\n",
       "      <td>MMR017D002</td>\n",
       "      <td>áááºá¹áá¬áááá­á¯ááº</td>\n",
       "      <td>None</td>\n",
       "      <td>9.3</td>\n",
       "      <td>POLYGON ((1360350.985 2065240.167, 1360711.674...</td>\n",
       "      <td>1167058</td>\n",
       "    </tr>\n",
       "    <tr>\n",
       "      <th>1</th>\n",
       "      <td>1.0</td>\n",
       "      <td>Ayeyarwady</td>\n",
       "      <td>MMR017</td>\n",
       "      <td>Labutta</td>\n",
       "      <td>MMR017D004</td>\n",
       "      <td>ááá½áá¹áá¬ááá­á¯ááº</td>\n",
       "      <td>None</td>\n",
       "      <td>9.3</td>\n",
       "      <td>MULTIPOLYGON (((1366173.997 1757168.684, 13662...</td>\n",
       "      <td>628538</td>\n",
       "    </tr>\n",
       "    <tr>\n",
       "      <th>2</th>\n",
       "      <td>2.0</td>\n",
       "      <td>Ayeyarwady</td>\n",
       "      <td>MMR017</td>\n",
       "      <td>Maubin</td>\n",
       "      <td>MMR017D005</td>\n",
       "      <td>áá¡á°áááºááá­á¯ááº</td>\n",
       "      <td>None</td>\n",
       "      <td>9.3</td>\n",
       "      <td>POLYGON ((1393141.870 1944376.654, 1393406.699...</td>\n",
       "      <td>987219</td>\n",
       "    </tr>\n",
       "    <tr>\n",
       "      <th>3</th>\n",
       "      <td>3.0</td>\n",
       "      <td>Ayeyarwady</td>\n",
       "      <td>MMR017</td>\n",
       "      <td>Myaungmya</td>\n",
       "      <td>MMR017D003</td>\n",
       "      <td>áá¼á±á¬ááºá¸áá¼ááá­á¯ááº</td>\n",
       "      <td>None</td>\n",
       "      <td>9.3</td>\n",
       "      <td>POLYGON ((1378067.102 1890161.506, 1378255.867...</td>\n",
       "      <td>790179</td>\n",
       "    </tr>\n",
       "    <tr>\n",
       "      <th>4</th>\n",
       "      <td>4.0</td>\n",
       "      <td>Ayeyarwady</td>\n",
       "      <td>MMR017</td>\n",
       "      <td>Pathein</td>\n",
       "      <td>MMR017D001</td>\n",
       "      <td>áá¯áá­ááºááá­á¯ááº</td>\n",
       "      <td>None</td>\n",
       "      <td>9.3</td>\n",
       "      <td>MULTIPOLYGON (((1281016.769 1766685.377, 12809...</td>\n",
       "      <td>1649662</td>\n",
       "    </tr>\n",
       "  </tbody>\n",
       "</table>\n",
       "</div>"
      ],
      "text/plain": [
       "   OBJECTID          ST ST_PCODE         DT  ADM2_PCODE  \\\n",
       "0       0.0  Ayeyarwady   MMR017   Hinthada  MMR017D002   \n",
       "1       1.0  Ayeyarwady   MMR017    Labutta  MMR017D004   \n",
       "2       2.0  Ayeyarwady   MMR017     Maubin  MMR017D005   \n",
       "3       3.0  Ayeyarwady   MMR017  Myaungmya  MMR017D003   \n",
       "4       4.0  Ayeyarwady   MMR017    Pathein  MMR017D001   \n",
       "\n",
       "                                         DT_MMR4 S_ADMIN PCode_V  \\\n",
       "0        áááºá¹áá¬áááá­á¯ááº    None     9.3   \n",
       "1        ááá½áá¹áá¬ááá­á¯ááº    None     9.3   \n",
       "2           áá¡á°áááºááá­á¯ááº    None     9.3   \n",
       "3  áá¼á±á¬ááºá¸áá¼ááá­á¯ááº    None     9.3   \n",
       "4           áá¯áá­ááºááá­á¯ááº    None     9.3   \n",
       "\n",
       "                                            geometry     T_TL  \n",
       "0  POLYGON ((1360350.985 2065240.167, 1360711.674...  1167058  \n",
       "1  MULTIPOLYGON (((1366173.997 1757168.684, 13662...   628538  \n",
       "2  POLYGON ((1393141.870 1944376.654, 1393406.699...   987219  \n",
       "3  POLYGON ((1378067.102 1890161.506, 1378255.867...   790179  \n",
       "4  MULTIPOLYGON (((1281016.769 1766685.377, 12809...  1649662  "
      ]
     },
     "execution_count": 12,
     "metadata": {},
     "output_type": "execute_result"
    }
   ],
   "source": [
    "pop_gdf.head()"
   ]
  },
  {
   "cell_type": "markdown",
   "id": "03219078-97f2-4130-b6cb-479a93b1447f",
   "metadata": {},
   "source": [
    "## Drop unimportant columns and rename useful columns to intuitive names "
   ]
  },
  {
   "cell_type": "code",
   "execution_count": 13,
   "id": "9ae0e3be-dffc-473f-956c-6bda381f87e8",
   "metadata": {},
   "outputs": [
    {
     "data": {
      "text/html": [
       "<div>\n",
       "<style scoped>\n",
       "    .dataframe tbody tr th:only-of-type {\n",
       "        vertical-align: middle;\n",
       "    }\n",
       "\n",
       "    .dataframe tbody tr th {\n",
       "        vertical-align: top;\n",
       "    }\n",
       "\n",
       "    .dataframe thead th {\n",
       "        text-align: right;\n",
       "    }\n",
       "</style>\n",
       "<table border=\"1\" class=\"dataframe\">\n",
       "  <thead>\n",
       "    <tr style=\"text-align: right;\">\n",
       "      <th></th>\n",
       "      <th>OBJECTID</th>\n",
       "      <th>ST</th>\n",
       "      <th>ST_PCODE</th>\n",
       "      <th>DT</th>\n",
       "      <th>ADM2_PCODE</th>\n",
       "      <th>DT_MMR4</th>\n",
       "      <th>S_ADMIN</th>\n",
       "      <th>PCode_V</th>\n",
       "      <th>geometry</th>\n",
       "      <th>T_TL</th>\n",
       "    </tr>\n",
       "  </thead>\n",
       "  <tbody>\n",
       "    <tr>\n",
       "      <th>0</th>\n",
       "      <td>0.0</td>\n",
       "      <td>Ayeyarwady</td>\n",
       "      <td>MMR017</td>\n",
       "      <td>Hinthada</td>\n",
       "      <td>MMR017D002</td>\n",
       "      <td>áááºá¹áá¬áááá­á¯ááº</td>\n",
       "      <td>None</td>\n",
       "      <td>9.3</td>\n",
       "      <td>POLYGON ((1360350.985 2065240.167, 1360711.674...</td>\n",
       "      <td>1167058</td>\n",
       "    </tr>\n",
       "    <tr>\n",
       "      <th>1</th>\n",
       "      <td>1.0</td>\n",
       "      <td>Ayeyarwady</td>\n",
       "      <td>MMR017</td>\n",
       "      <td>Labutta</td>\n",
       "      <td>MMR017D004</td>\n",
       "      <td>ááá½áá¹áá¬ááá­á¯ááº</td>\n",
       "      <td>None</td>\n",
       "      <td>9.3</td>\n",
       "      <td>MULTIPOLYGON (((1366173.997 1757168.684, 13662...</td>\n",
       "      <td>628538</td>\n",
       "    </tr>\n",
       "    <tr>\n",
       "      <th>2</th>\n",
       "      <td>2.0</td>\n",
       "      <td>Ayeyarwady</td>\n",
       "      <td>MMR017</td>\n",
       "      <td>Maubin</td>\n",
       "      <td>MMR017D005</td>\n",
       "      <td>áá¡á°áááºááá­á¯ááº</td>\n",
       "      <td>None</td>\n",
       "      <td>9.3</td>\n",
       "      <td>POLYGON ((1393141.870 1944376.654, 1393406.699...</td>\n",
       "      <td>987219</td>\n",
       "    </tr>\n",
       "  </tbody>\n",
       "</table>\n",
       "</div>"
      ],
      "text/plain": [
       "   OBJECTID          ST ST_PCODE        DT  ADM2_PCODE  \\\n",
       "0       0.0  Ayeyarwady   MMR017  Hinthada  MMR017D002   \n",
       "1       1.0  Ayeyarwady   MMR017   Labutta  MMR017D004   \n",
       "2       2.0  Ayeyarwady   MMR017    Maubin  MMR017D005   \n",
       "\n",
       "                                   DT_MMR4 S_ADMIN PCode_V  \\\n",
       "0  áááºá¹áá¬áááá­á¯ááº    None     9.3   \n",
       "1  ááá½áá¹áá¬ááá­á¯ááº    None     9.3   \n",
       "2     áá¡á°áááºááá­á¯ááº    None     9.3   \n",
       "\n",
       "                                            geometry     T_TL  \n",
       "0  POLYGON ((1360350.985 2065240.167, 1360711.674...  1167058  \n",
       "1  MULTIPOLYGON (((1366173.997 1757168.684, 13662...   628538  \n",
       "2  POLYGON ((1393141.870 1944376.654, 1393406.699...   987219  "
      ]
     },
     "execution_count": 13,
     "metadata": {},
     "output_type": "execute_result"
    }
   ],
   "source": [
    "pop_gdf.head(3)"
   ]
  },
  {
   "cell_type": "code",
   "execution_count": 14,
   "id": "8e405172-057b-40ba-9e35-281db090f6be",
   "metadata": {},
   "outputs": [
    {
     "data": {
      "text/plain": [
       "Index(['OBJECTID', 'ST', 'ST_PCODE', 'DT', 'ADM2_PCODE', 'DT_MMR4', 'S_ADMIN',\n",
       "       'PCode_V', 'geometry', 'T_TL'],\n",
       "      dtype='object')"
      ]
     },
     "execution_count": 14,
     "metadata": {},
     "output_type": "execute_result"
    }
   ],
   "source": [
    "pop_gdf.columns"
   ]
  },
  {
   "cell_type": "code",
   "execution_count": 15,
   "id": "44bab91b-ab6d-4fab-bf45-9c36be74d569",
   "metadata": {},
   "outputs": [],
   "source": [
    "pop_gdf = pop_gdf.drop(['ST', 'ST_PCODE', 'DT', 'DT_MMR4', 'S_ADMIN', 'PCode_V'], axis=1).rename(columns={'T_TL':'Total Population','terror_ct':\"Number of Terror events\"})"
   ]
  },
  {
   "cell_type": "code",
   "execution_count": 16,
   "id": "e372516d-f413-4afe-abbb-fa834cd20e4b",
   "metadata": {},
   "outputs": [
    {
     "data": {
      "text/html": [
       "<div>\n",
       "<style scoped>\n",
       "    .dataframe tbody tr th:only-of-type {\n",
       "        vertical-align: middle;\n",
       "    }\n",
       "\n",
       "    .dataframe tbody tr th {\n",
       "        vertical-align: top;\n",
       "    }\n",
       "\n",
       "    .dataframe thead th {\n",
       "        text-align: right;\n",
       "    }\n",
       "</style>\n",
       "<table border=\"1\" class=\"dataframe\">\n",
       "  <thead>\n",
       "    <tr style=\"text-align: right;\">\n",
       "      <th></th>\n",
       "      <th>OBJECTID</th>\n",
       "      <th>ADM2_PCODE</th>\n",
       "      <th>geometry</th>\n",
       "      <th>Total Population</th>\n",
       "    </tr>\n",
       "  </thead>\n",
       "  <tbody>\n",
       "    <tr>\n",
       "      <th>21</th>\n",
       "      <td>23.0</td>\n",
       "      <td>MMR003D004</td>\n",
       "      <td>POLYGON ((1597949.032 2088064.538, 1597981.999...</td>\n",
       "      <td>38038</td>\n",
       "    </tr>\n",
       "    <tr>\n",
       "      <th>18</th>\n",
       "      <td>18.0</td>\n",
       "      <td>MMR002D002</td>\n",
       "      <td>POLYGON ((1610974.752 2171553.744, 1611179.340...</td>\n",
       "      <td>51272</td>\n",
       "    </tr>\n",
       "    <tr>\n",
       "      <th>13</th>\n",
       "      <td>13.0</td>\n",
       "      <td>MMR004D002</td>\n",
       "      <td>POLYGON ((1191353.272 2424270.225, 1192186.003...</td>\n",
       "      <td>71649</td>\n",
       "    </tr>\n",
       "    <tr>\n",
       "      <th>11</th>\n",
       "      <td>11.0</td>\n",
       "      <td>MMR004D003</td>\n",
       "      <td>POLYGON ((1151810.134 2565148.010, 1152360.497...</td>\n",
       "      <td>110696</td>\n",
       "    </tr>\n",
       "    <tr>\n",
       "      <th>17</th>\n",
       "      <td>17.0</td>\n",
       "      <td>MMR001D004</td>\n",
       "      <td>POLYGON ((1540266.346 3201468.118, 1539901.260...</td>\n",
       "      <td>111169</td>\n",
       "    </tr>\n",
       "  </tbody>\n",
       "</table>\n",
       "</div>"
      ],
      "text/plain": [
       "    OBJECTID  ADM2_PCODE                                           geometry  \\\n",
       "21      23.0  MMR003D004  POLYGON ((1597949.032 2088064.538, 1597981.999...   \n",
       "18      18.0  MMR002D002  POLYGON ((1610974.752 2171553.744, 1611179.340...   \n",
       "13      13.0  MMR004D002  POLYGON ((1191353.272 2424270.225, 1192186.003...   \n",
       "11      11.0  MMR004D003  POLYGON ((1151810.134 2565148.010, 1152360.497...   \n",
       "17      17.0  MMR001D004  POLYGON ((1540266.346 3201468.118, 1539901.260...   \n",
       "\n",
       "    Total Population  \n",
       "21             38038  \n",
       "18             51272  \n",
       "13             71649  \n",
       "11            110696  \n",
       "17            111169  "
      ]
     },
     "execution_count": 16,
     "metadata": {},
     "output_type": "execute_result"
    }
   ],
   "source": [
    "pop_gdf.sort_values(by=['Total Population'], na_position='first').head()"
   ]
  },
  {
   "cell_type": "markdown",
   "id": "7e4bb61e-75d6-4546-85fa-a87576099077",
   "metadata": {},
   "source": [
    "## Calculate population density"
   ]
  },
  {
   "cell_type": "code",
   "execution_count": 17,
   "id": "cba4f67b-dcb7-4df1-b003-7c790ef172d9",
   "metadata": {},
   "outputs": [
    {
     "data": {
      "text/html": [
       "<div>\n",
       "<style scoped>\n",
       "    .dataframe tbody tr th:only-of-type {\n",
       "        vertical-align: middle;\n",
       "    }\n",
       "\n",
       "    .dataframe tbody tr th {\n",
       "        vertical-align: top;\n",
       "    }\n",
       "\n",
       "    .dataframe thead th {\n",
       "        text-align: right;\n",
       "    }\n",
       "</style>\n",
       "<table border=\"1\" class=\"dataframe\">\n",
       "  <thead>\n",
       "    <tr style=\"text-align: right;\">\n",
       "      <th></th>\n",
       "      <th>OBJECTID</th>\n",
       "      <th>ADM2_PCODE</th>\n",
       "      <th>geometry</th>\n",
       "      <th>Total Population</th>\n",
       "      <th>Population Density</th>\n",
       "    </tr>\n",
       "  </thead>\n",
       "  <tbody>\n",
       "    <tr>\n",
       "      <th>0</th>\n",
       "      <td>0.0</td>\n",
       "      <td>MMR017D002</td>\n",
       "      <td>POLYGON ((1360350.985 2065240.167, 1360711.674...</td>\n",
       "      <td>1167058</td>\n",
       "      <td>0.000164</td>\n",
       "    </tr>\n",
       "    <tr>\n",
       "      <th>1</th>\n",
       "      <td>1.0</td>\n",
       "      <td>MMR017D004</td>\n",
       "      <td>MULTIPOLYGON (((1366173.997 1757168.684, 13662...</td>\n",
       "      <td>628538</td>\n",
       "      <td>0.000167</td>\n",
       "    </tr>\n",
       "    <tr>\n",
       "      <th>2</th>\n",
       "      <td>2.0</td>\n",
       "      <td>MMR017D005</td>\n",
       "      <td>POLYGON ((1393141.870 1944376.654, 1393406.699...</td>\n",
       "      <td>987219</td>\n",
       "      <td>0.000225</td>\n",
       "    </tr>\n",
       "  </tbody>\n",
       "</table>\n",
       "</div>"
      ],
      "text/plain": [
       "   OBJECTID  ADM2_PCODE                                           geometry  \\\n",
       "0       0.0  MMR017D002  POLYGON ((1360350.985 2065240.167, 1360711.674...   \n",
       "1       1.0  MMR017D004  MULTIPOLYGON (((1366173.997 1757168.684, 13662...   \n",
       "2       2.0  MMR017D005  POLYGON ((1393141.870 1944376.654, 1393406.699...   \n",
       "\n",
       "   Total Population  Population Density  \n",
       "0           1167058            0.000164  \n",
       "1            628538            0.000167  \n",
       "2            987219            0.000225  "
      ]
     },
     "execution_count": 17,
     "metadata": {},
     "output_type": "execute_result"
    }
   ],
   "source": [
    "pop_gdf['Population Density'] = (pop_gdf['Total Population'] / pop_gdf['geometry'].area)\n",
    "pop_gdf.head(3)"
   ]
  },
  {
   "cell_type": "code",
   "execution_count": 18,
   "id": "7fac3d80-2047-4a2f-b922-2bae2f145e5e",
   "metadata": {},
   "outputs": [
    {
     "data": {
      "text/plain": [
       "(array([77.,  1.,  0.,  0.,  0.,  1.,  0.,  0.,  0.,  1.]),\n",
       " array([3.90027335e-06, 1.52875362e-03, 3.05360697e-03, 4.57846032e-03,\n",
       "        6.10331367e-03, 7.62816702e-03, 9.15302037e-03, 1.06778737e-02,\n",
       "        1.22027271e-02, 1.37275804e-02, 1.52524338e-02]),\n",
       " <BarContainer object of 10 artists>)"
      ]
     },
     "execution_count": 18,
     "metadata": {},
     "output_type": "execute_result"
    },
    {
     "data": {
      "image/png": "[encoded data removed]",
      "text/plain": [
       "<Figure size 432x288 with 1 Axes>"
      ]
     },
     "metadata": {
      "needs_background": "light"
     },
     "output_type": "display_data"
    }
   ],
   "source": [
    "plt.hist(pop_gdf['Population Density'])"
   ]
  },
  {
   "cell_type": "code",
   "execution_count": 19,
   "id": "b21fc33a-0b93-4465-a145-c20cf1190d87",
   "metadata": {},
   "outputs": [
    {
     "data": {
      "text/html": [
       "<div>\n",
       "<style scoped>\n",
       "    .dataframe tbody tr th:only-of-type {\n",
       "        vertical-align: middle;\n",
       "    }\n",
       "\n",
       "    .dataframe tbody tr th {\n",
       "        vertical-align: top;\n",
       "    }\n",
       "\n",
       "    .dataframe thead th {\n",
       "        text-align: right;\n",
       "    }\n",
       "</style>\n",
       "<table border=\"1\" class=\"dataframe\">\n",
       "  <thead>\n",
       "    <tr style=\"text-align: right;\">\n",
       "      <th></th>\n",
       "      <th>OBJECTID</th>\n",
       "      <th>ADM2_PCODE</th>\n",
       "      <th>geometry</th>\n",
       "      <th>Total Population</th>\n",
       "      <th>Population Density</th>\n",
       "    </tr>\n",
       "  </thead>\n",
       "  <tbody>\n",
       "    <tr>\n",
       "      <th>40</th>\n",
       "      <td>83.0</td>\n",
       "      <td>MMR013D004</td>\n",
       "      <td>MULTIPOLYGON (((1474868.133 1881194.068, 14748...</td>\n",
       "      <td>1167751</td>\n",
       "      <td>0.015252</td>\n",
       "    </tr>\n",
       "    <tr>\n",
       "      <th>37</th>\n",
       "      <td>80.0</td>\n",
       "      <td>MMR013D002</td>\n",
       "      <td>POLYGON ((1495713.721 1905622.100, 1495727.717...</td>\n",
       "      <td>2854432</td>\n",
       "      <td>0.007763</td>\n",
       "    </tr>\n",
       "    <tr>\n",
       "      <th>41</th>\n",
       "      <td>32.0</td>\n",
       "      <td>MMR010D001</td>\n",
       "      <td>POLYGON ((1454596.405 2478900.183, 1455243.239...</td>\n",
       "      <td>1861454</td>\n",
       "      <td>0.001998</td>\n",
       "    </tr>\n",
       "    <tr>\n",
       "      <th>38</th>\n",
       "      <td>81.0</td>\n",
       "      <td>MMR013D001</td>\n",
       "      <td>POLYGON ((1463967.925 1989966.573, 1465086.805...</td>\n",
       "      <td>3125668</td>\n",
       "      <td>0.000659</td>\n",
       "    </tr>\n",
       "    <tr>\n",
       "      <th>39</th>\n",
       "      <td>82.0</td>\n",
       "      <td>MMR013D003</td>\n",
       "      <td>MULTIPOLYGON (((1189013.444 1573682.474, 11891...</td>\n",
       "      <td>1705367</td>\n",
       "      <td>0.000354</td>\n",
       "    </tr>\n",
       "  </tbody>\n",
       "</table>\n",
       "</div>"
      ],
      "text/plain": [
       "    OBJECTID  ADM2_PCODE                                           geometry  \\\n",
       "40      83.0  MMR013D004  MULTIPOLYGON (((1474868.133 1881194.068, 14748...   \n",
       "37      80.0  MMR013D002  POLYGON ((1495713.721 1905622.100, 1495727.717...   \n",
       "41      32.0  MMR010D001  POLYGON ((1454596.405 2478900.183, 1455243.239...   \n",
       "38      81.0  MMR013D001  POLYGON ((1463967.925 1989966.573, 1465086.805...   \n",
       "39      82.0  MMR013D003  MULTIPOLYGON (((1189013.444 1573682.474, 11891...   \n",
       "\n",
       "    Total Population  Population Density  \n",
       "40           1167751            0.015252  \n",
       "37           2854432            0.007763  \n",
       "41           1861454            0.001998  \n",
       "38           3125668            0.000659  \n",
       "39           1705367            0.000354  "
      ]
     },
     "execution_count": 19,
     "metadata": {},
     "output_type": "execute_result"
    }
   ],
   "source": [
    "pop_gdf.sort_values(by=['Population Density'], ascending=False, na_position='first').head(5)"
   ]
  },
  {
   "cell_type": "markdown",
   "id": "6ffe57e5-4a07-4d8a-900b-c16dfdcebc6e",
   "metadata": {},
   "source": [
    "## Drop Outliers\n",
    "3 districts are an order of magnitude larger than the rest. Drop them as outliers"
   ]
  },
  {
   "cell_type": "code",
   "execution_count": null,
   "id": "c667c1cf-0f41-4c0b-996c-e7c9ebbc3e74",
   "metadata": {},
   "outputs": [],
   "source": [
    "pop_gdf = pop_gdf.drop([37,40,41]).sort_values(by=['Population Density'], ascending=False, na_position='first')"
   ]
  },
  {
   "cell_type": "code",
   "execution_count": 23,
   "id": "2e0bb7d1-cfb2-4e94-946f-7ca041bd15d9",
   "metadata": {},
   "outputs": [
    {
     "data": {
      "text/html": [
       "<div>\n",
       "<style scoped>\n",
       "    .dataframe tbody tr th:only-of-type {\n",
       "        vertical-align: middle;\n",
       "    }\n",
       "\n",
       "    .dataframe tbody tr th {\n",
       "        vertical-align: top;\n",
       "    }\n",
       "\n",
       "    .dataframe thead th {\n",
       "        text-align: right;\n",
       "    }\n",
       "</style>\n",
       "<table border=\"1\" class=\"dataframe\">\n",
       "  <thead>\n",
       "    <tr style=\"text-align: right;\">\n",
       "      <th></th>\n",
       "      <th>OBJECTID</th>\n",
       "      <th>ADM2_PCODE</th>\n",
       "      <th>geometry</th>\n",
       "      <th>Total Population</th>\n",
       "      <th>Population Density</th>\n",
       "    </tr>\n",
       "  </thead>\n",
       "  <tbody>\n",
       "    <tr>\n",
       "      <th>38</th>\n",
       "      <td>81.0</td>\n",
       "      <td>MMR013D001</td>\n",
       "      <td>POLYGON ((1463967.925 1989966.573, 1465086.805...</td>\n",
       "      <td>3125668</td>\n",
       "      <td>0.000659</td>\n",
       "    </tr>\n",
       "    <tr>\n",
       "      <th>39</th>\n",
       "      <td>82.0</td>\n",
       "      <td>MMR013D003</td>\n",
       "      <td>MULTIPOLYGON (((1189013.444 1573682.474, 11891...</td>\n",
       "      <td>1705367</td>\n",
       "      <td>0.000354</td>\n",
       "    </tr>\n",
       "    <tr>\n",
       "      <th>54</th>\n",
       "      <td>45.0</td>\n",
       "      <td>MMR012D001</td>\n",
       "      <td>MULTIPOLYGON (((1142676.958 2229732.398, 11428...</td>\n",
       "      <td>859241</td>\n",
       "      <td>0.000274</td>\n",
       "    </tr>\n",
       "    <tr>\n",
       "      <th>3</th>\n",
       "      <td>3.0</td>\n",
       "      <td>MMR017D003</td>\n",
       "      <td>POLYGON ((1378067.102 1890161.506, 1378255.867...</td>\n",
       "      <td>790179</td>\n",
       "      <td>0.000253</td>\n",
       "    </tr>\n",
       "    <tr>\n",
       "      <th>62</th>\n",
       "      <td>53.0</td>\n",
       "      <td>MMR005D003</td>\n",
       "      <td>POLYGON ((1340629.745 2524241.369, 1341180.089...</td>\n",
       "      <td>814273</td>\n",
       "      <td>0.000230</td>\n",
       "    </tr>\n",
       "    <tr>\n",
       "      <th>...</th>\n",
       "      <td>...</td>\n",
       "      <td>...</td>\n",
       "      <td>...</td>\n",
       "      <td>...</td>\n",
       "      <td>...</td>\n",
       "    </tr>\n",
       "    <tr>\n",
       "      <th>12</th>\n",
       "      <td>12.0</td>\n",
       "      <td>MMR004D004</td>\n",
       "      <td>POLYGON ((1156067.186 2471818.082, 1156744.551...</td>\n",
       "      <td>165972</td>\n",
       "      <td>0.000012</td>\n",
       "    </tr>\n",
       "    <tr>\n",
       "      <th>18</th>\n",
       "      <td>18.0</td>\n",
       "      <td>MMR002D002</td>\n",
       "      <td>POLYGON ((1610974.752 2171553.744, 1611179.340...</td>\n",
       "      <td>51272</td>\n",
       "      <td>0.000010</td>\n",
       "    </tr>\n",
       "    <tr>\n",
       "      <th>30</th>\n",
       "      <td>54.0</td>\n",
       "      <td>MMR005S001</td>\n",
       "      <td>MULTIPOLYGON (((1308038.043 2871386.892, 13082...</td>\n",
       "      <td>122385</td>\n",
       "      <td>0.000009</td>\n",
       "    </tr>\n",
       "    <tr>\n",
       "      <th>21</th>\n",
       "      <td>23.0</td>\n",
       "      <td>MMR003D004</td>\n",
       "      <td>POLYGON ((1597949.032 2088064.538, 1597981.999...</td>\n",
       "      <td>38038</td>\n",
       "      <td>0.000005</td>\n",
       "    </tr>\n",
       "    <tr>\n",
       "      <th>17</th>\n",
       "      <td>17.0</td>\n",
       "      <td>MMR001D004</td>\n",
       "      <td>POLYGON ((1540266.346 3201468.118, 1539901.260...</td>\n",
       "      <td>111169</td>\n",
       "      <td>0.000004</td>\n",
       "    </tr>\n",
       "  </tbody>\n",
       "</table>\n",
       "<p>77 rows × 5 columns</p>\n",
       "</div>"
      ],
      "text/plain": [
       "    OBJECTID  ADM2_PCODE                                           geometry  \\\n",
       "38      81.0  MMR013D001  POLYGON ((1463967.925 1989966.573, 1465086.805...   \n",
       "39      82.0  MMR013D003  MULTIPOLYGON (((1189013.444 1573682.474, 11891...   \n",
       "54      45.0  MMR012D001  MULTIPOLYGON (((1142676.958 2229732.398, 11428...   \n",
       "3        3.0  MMR017D003  POLYGON ((1378067.102 1890161.506, 1378255.867...   \n",
       "62      53.0  MMR005D003  POLYGON ((1340629.745 2524241.369, 1341180.089...   \n",
       "..       ...         ...                                                ...   \n",
       "12      12.0  MMR004D004  POLYGON ((1156067.186 2471818.082, 1156744.551...   \n",
       "18      18.0  MMR002D002  POLYGON ((1610974.752 2171553.744, 1611179.340...   \n",
       "30      54.0  MMR005S001  MULTIPOLYGON (((1308038.043 2871386.892, 13082...   \n",
       "21      23.0  MMR003D004  POLYGON ((1597949.032 2088064.538, 1597981.999...   \n",
       "17      17.0  MMR001D004  POLYGON ((1540266.346 3201468.118, 1539901.260...   \n",
       "\n",
       "    Total Population  Population Density  \n",
       "38           3125668            0.000659  \n",
       "39           1705367            0.000354  \n",
       "54            859241            0.000274  \n",
       "3             790179            0.000253  \n",
       "62            814273            0.000230  \n",
       "..               ...                 ...  \n",
       "12            165972            0.000012  \n",
       "18             51272            0.000010  \n",
       "30            122385            0.000009  \n",
       "21             38038            0.000005  \n",
       "17            111169            0.000004  \n",
       "\n",
       "[77 rows x 5 columns]"
      ]
     },
     "execution_count": 23,
     "metadata": {},
     "output_type": "execute_result"
    }
   ],
   "source": [
    "pop_gdf"
   ]
  },
  {
   "cell_type": "code",
   "execution_count": 25,
   "id": "4401e017-ff9c-41ef-aa16-dd310b120e8b",
   "metadata": {},
   "outputs": [
    {
     "data": {
      "text/plain": [
       "(array([41., 14., 13.,  6.,  1.,  1.,  0.,  0.,  0.,  1.]),\n",
       " array([3.90027335e-06, 6.94172936e-05, 1.34934314e-04, 2.00451334e-04,\n",
       "        2.65968354e-04, 3.31485374e-04, 3.97002395e-04, 4.62519415e-04,\n",
       "        5.28036435e-04, 5.93553455e-04, 6.59070475e-04]),\n",
       " <BarContainer object of 10 artists>)"
      ]
     },
     "execution_count": 25,
     "metadata": {},
     "output_type": "execute_result"
    },
    {
     "data": {
      "image/png": "[encoded data removed]",
      "text/plain": [
       "<Figure size 432x288 with 1 Axes>"
      ]
     },
     "metadata": {
      "needs_background": "light"
     },
     "output_type": "display_data"
    }
   ],
   "source": [
    "plt.hist(pop_gdf['Population Density'])"
   ]
  },
  {
   "cell_type": "markdown",
   "id": "96477d0e-fdbb-420c-a954-58d4a924f1bb",
   "metadata": {},
   "source": [
    "**Log transform Population density to achieve a more normal distribution**"
   ]
  },
  {
   "cell_type": "code",
   "execution_count": 26,
   "id": "23397d0a-d881-4dc9-971c-5c3ac848989b",
   "metadata": {},
   "outputs": [],
   "source": [
    "pop_gdf['Log_Pop_Den'] = np.log10(pop_gdf['Population Density'])"
   ]
  },
  {
   "cell_type": "code",
   "execution_count": 27,
   "id": "df87b717-a7af-4edb-abcc-74b56821b80d",
   "metadata": {},
   "outputs": [
    {
     "data": {
      "text/plain": [
       "(array([ 2.,  2.,  8.,  5., 11., 17., 11., 17.,  3.,  1.]),\n",
       " array([-5.40890495, -5.18612127, -4.96333759, -4.74055391, -4.51777023,\n",
       "        -4.29498655, -4.07220287, -3.84941919, -3.62663551, -3.40385182,\n",
       "        -3.18106814]),\n",
       " <BarContainer object of 10 artists>)"
      ]
     },
     "execution_count": 27,
     "metadata": {},
     "output_type": "execute_result"
    },
    {
     "data": {
      "image/png": "[encoded data removed]",
      "text/plain": [
       "<Figure size 432x288 with 1 Axes>"
      ]
     },
     "metadata": {
      "needs_background": "light"
     },
     "output_type": "display_data"
    }
   ],
   "source": [
    "plt.hist(pop_gdf['Log_Pop_Den'])"
   ]
  },
  {
   "cell_type": "markdown",
   "id": "243c4c68-7114-4bfd-97ce-8a22f6fc2c5e",
   "metadata": {},
   "source": [
    "## Plot districts by population and add terror event points over"
   ]
  },
  {
   "cell_type": "code",
   "execution_count": 28,
   "id": "46760e81-cab7-45e0-b937-c1b0b5dbe647",
   "metadata": {},
   "outputs": [
    {
     "name": "stdout",
     "output_type": "stream",
     "text": [
      "population bounds: [1037769.01635214 1088207.21383713 1978061.07827107 3203430.53491157]\n",
      "terror bounds: [1040412.97699957 1125681.24830013 1896214.24477776 3114998.74203196]\n"
     ]
    }
   ],
   "source": [
    "#Check extents\n",
    "print('population bounds: ' + str(pop_gdf.total_bounds))\n",
    "print('terror bounds: ' + str(terror_gdf.total_bounds))"
   ]
  },
  {
   "cell_type": "code",
   "execution_count": 29,
   "id": "3dd3e8eb-0679-46e6-8e98-6ae7b2cc07b9",
   "metadata": {},
   "outputs": [
    {
     "data": {
      "image/png": "[encoded data removed]",
      "text/plain": [
       "<Figure size 504x864 with 2 Axes>"
      ]
     },
     "metadata": {
      "needs_background": "light"
     },
     "output_type": "display_data"
    }
   ],
   "source": [
    "#Plot\n",
    "fig, ax = plt.subplots(figsize=(7,12), subplot_kw = {'aspect':'equal'})\n",
    "pop_gdf.plot(column = 'Log_Pop_Den', legend=True, cmap='YlGn', ax=ax, legend_kwds={'label': \"Log transformed Population Density by district\"})\n",
    "ax.set_xlim(1000000, 2000000)\n",
    "ax.set_ylim(1000000, 3250000)\n",
    "ax.set_title('Terror events by district (2015-2022)')\n",
    "\n",
    "ax = terror_gdf.plot(ax=ax, markersize = 0.5, legend=True)\n",
    "# plt.savefig(os.path.join(dirname,'Figures\\\\StudyArea.png'))"
   ]
  },
  {
   "cell_type": "markdown",
   "id": "4d25b92e-613c-4042-8667-eb30defc991c",
   "metadata": {},
   "source": [
    "## Spatial Join number of terror events into each district polygon"
   ]
  },
  {
   "cell_type": "code",
   "execution_count": 30,
   "id": "c045289f-d913-405d-85e3-97f8a589d13b",
   "metadata": {},
   "outputs": [
    {
     "data": {
      "text/html": [
       "<div>\n",
       "<style scoped>\n",
       "    .dataframe tbody tr th:only-of-type {\n",
       "        vertical-align: middle;\n",
       "    }\n",
       "\n",
       "    .dataframe tbody tr th {\n",
       "        vertical-align: top;\n",
       "    }\n",
       "\n",
       "    .dataframe thead th {\n",
       "        text-align: right;\n",
       "    }\n",
       "</style>\n",
       "<table border=\"1\" class=\"dataframe\">\n",
       "  <thead>\n",
       "    <tr style=\"text-align: right;\">\n",
       "      <th></th>\n",
       "      <th>ADM2_PCODE</th>\n",
       "      <th>terror_ct</th>\n",
       "    </tr>\n",
       "  </thead>\n",
       "  <tbody>\n",
       "    <tr>\n",
       "      <th>22</th>\n",
       "      <td>MMR005D009</td>\n",
       "      <td>2199</td>\n",
       "    </tr>\n",
       "    <tr>\n",
       "      <th>15</th>\n",
       "      <td>MMR005D002</td>\n",
       "      <td>1698</td>\n",
       "    </tr>\n",
       "    <tr>\n",
       "      <th>59</th>\n",
       "      <td>MMR015D002</td>\n",
       "      <td>1678</td>\n",
       "    </tr>\n",
       "    <tr>\n",
       "      <th>36</th>\n",
       "      <td>MMR009D004</td>\n",
       "      <td>1428</td>\n",
       "    </tr>\n",
       "    <tr>\n",
       "      <th>16</th>\n",
       "      <td>MMR005D003</td>\n",
       "      <td>1277</td>\n",
       "    </tr>\n",
       "  </tbody>\n",
       "</table>\n",
       "</div>"
      ],
      "text/plain": [
       "    ADM2_PCODE  terror_ct\n",
       "22  MMR005D009       2199\n",
       "15  MMR005D002       1698\n",
       "59  MMR015D002       1678\n",
       "36  MMR009D004       1428\n",
       "16  MMR005D003       1277"
      ]
     },
     "execution_count": 30,
     "metadata": {},
     "output_type": "execute_result"
    }
   ],
   "source": [
    "join_gdf = gpd.sjoin(terror_gdf, pop_gdf, how = 'inner',predicate='intersects')\n",
    "terror_ct_df = join_gdf.groupby(['ADM2_PCODE'],as_index=False)['data_id'].count()\n",
    "terror_ct_df.columns=['ADM2_PCODE','terror_ct']\n",
    "terror_ct_df.sort_values(by=['terror_ct'], ascending=False).head()"
   ]
  },
  {
   "cell_type": "code",
   "execution_count": 31,
   "id": "e3e7386c-7bdb-4080-ad42-8991e85d3e90",
   "metadata": {},
   "outputs": [
    {
     "data": {
      "text/html": [
       "<div>\n",
       "<style scoped>\n",
       "    .dataframe tbody tr th:only-of-type {\n",
       "        vertical-align: middle;\n",
       "    }\n",
       "\n",
       "    .dataframe tbody tr th {\n",
       "        vertical-align: top;\n",
       "    }\n",
       "\n",
       "    .dataframe thead th {\n",
       "        text-align: right;\n",
       "    }\n",
       "</style>\n",
       "<table border=\"1\" class=\"dataframe\">\n",
       "  <thead>\n",
       "    <tr style=\"text-align: right;\">\n",
       "      <th></th>\n",
       "      <th>OBJECTID</th>\n",
       "      <th>ADM2_PCODE</th>\n",
       "      <th>geometry</th>\n",
       "      <th>Total Population</th>\n",
       "      <th>Population Density</th>\n",
       "      <th>Log_Pop_Den</th>\n",
       "      <th>terror_ct</th>\n",
       "    </tr>\n",
       "  </thead>\n",
       "  <tbody>\n",
       "    <tr>\n",
       "      <th>31</th>\n",
       "      <td>59.0</td>\n",
       "      <td>MMR005D009</td>\n",
       "      <td>POLYGON ((1297240.959 2545914.100, 1297774.910...</td>\n",
       "      <td>580764</td>\n",
       "      <td>0.000087</td>\n",
       "      <td>-4.060643</td>\n",
       "      <td>2199</td>\n",
       "    </tr>\n",
       "    <tr>\n",
       "      <th>21</th>\n",
       "      <td>57.0</td>\n",
       "      <td>MMR005D002</td>\n",
       "      <td>POLYGON ((1322393.702 2597618.339, 1322910.108...</td>\n",
       "      <td>1110223</td>\n",
       "      <td>0.000136</td>\n",
       "      <td>-3.867746</td>\n",
       "      <td>1698</td>\n",
       "    </tr>\n",
       "    <tr>\n",
       "      <th>36</th>\n",
       "      <td>69.0</td>\n",
       "      <td>MMR015D002</td>\n",
       "      <td>POLYGON ((1679144.072 2717161.815, 1679093.533...</td>\n",
       "      <td>519549</td>\n",
       "      <td>0.000066</td>\n",
       "      <td>-4.181929</td>\n",
       "      <td>1678</td>\n",
       "    </tr>\n",
       "  </tbody>\n",
       "</table>\n",
       "</div>"
      ],
      "text/plain": [
       "    OBJECTID  ADM2_PCODE                                           geometry  \\\n",
       "31      59.0  MMR005D009  POLYGON ((1297240.959 2545914.100, 1297774.910...   \n",
       "21      57.0  MMR005D002  POLYGON ((1322393.702 2597618.339, 1322910.108...   \n",
       "36      69.0  MMR015D002  POLYGON ((1679144.072 2717161.815, 1679093.533...   \n",
       "\n",
       "    Total Population  Population Density  Log_Pop_Den  terror_ct  \n",
       "31            580764            0.000087    -4.060643       2199  \n",
       "21           1110223            0.000136    -3.867746       1698  \n",
       "36            519549            0.000066    -4.181929       1678  "
      ]
     },
     "execution_count": 31,
     "metadata": {},
     "output_type": "execute_result"
    }
   ],
   "source": [
    "terror = pop_gdf.merge(terror_ct_df,on='ADM2_PCODE',how='left')\n",
    "terror.sort_values(by=['terror_ct'], ascending=False).head(3)"
   ]
  },
  {
   "cell_type": "markdown",
   "id": "7fcffdee-96ec-453b-9736-327f49f7a799",
   "metadata": {},
   "source": [
    "Check for NA values. If they exist, impute with 0"
   ]
  },
  {
   "cell_type": "code",
   "execution_count": 32,
   "id": "916eb73e-e490-4dc7-8421-b27e8bf7b9fb",
   "metadata": {},
   "outputs": [
    {
     "name": "stdout",
     "output_type": "stream",
     "text": [
      "0\n"
     ]
    }
   ],
   "source": [
    "print(terror['terror_ct'].isna().sum())"
   ]
  },
  {
   "cell_type": "code",
   "execution_count": 33,
   "id": "e63c91f0-a705-44e7-81b1-d4b6456219ad",
   "metadata": {},
   "outputs": [
    {
     "name": "stdout",
     "output_type": "stream",
     "text": [
      "0\n"
     ]
    }
   ],
   "source": [
    "terror['terror_ct'].fillna(value=0, inplace=True)\n",
    "print(terror['terror_ct'].isna().sum())"
   ]
  },
  {
   "cell_type": "code",
   "execution_count": 34,
   "id": "46d860c0-ea18-443e-b3e0-e1410bf2606b",
   "metadata": {},
   "outputs": [],
   "source": [
    "terror = terror.rename(columns={'terror_ct':\"Number of Terror events\"})"
   ]
  },
  {
   "cell_type": "code",
   "execution_count": 35,
   "id": "d588c862-4fde-401c-9d9d-fa7a8e7c8d02",
   "metadata": {},
   "outputs": [
    {
     "data": {
      "text/html": [
       "<div>\n",
       "<style scoped>\n",
       "    .dataframe tbody tr th:only-of-type {\n",
       "        vertical-align: middle;\n",
       "    }\n",
       "\n",
       "    .dataframe tbody tr th {\n",
       "        vertical-align: top;\n",
       "    }\n",
       "\n",
       "    .dataframe thead th {\n",
       "        text-align: right;\n",
       "    }\n",
       "</style>\n",
       "<table border=\"1\" class=\"dataframe\">\n",
       "  <thead>\n",
       "    <tr style=\"text-align: right;\">\n",
       "      <th></th>\n",
       "      <th>OBJECTID</th>\n",
       "      <th>ADM2_PCODE</th>\n",
       "      <th>geometry</th>\n",
       "      <th>Total Population</th>\n",
       "      <th>Population Density</th>\n",
       "      <th>Log_Pop_Den</th>\n",
       "      <th>Number of Terror events</th>\n",
       "    </tr>\n",
       "  </thead>\n",
       "  <tbody>\n",
       "    <tr>\n",
       "      <th>0</th>\n",
       "      <td>81.0</td>\n",
       "      <td>MMR013D001</td>\n",
       "      <td>POLYGON ((1463967.925 1989966.573, 1465086.805...</td>\n",
       "      <td>3125668</td>\n",
       "      <td>0.000659</td>\n",
       "      <td>-3.181068</td>\n",
       "      <td>910</td>\n",
       "    </tr>\n",
       "    <tr>\n",
       "      <th>1</th>\n",
       "      <td>82.0</td>\n",
       "      <td>MMR013D003</td>\n",
       "      <td>MULTIPOLYGON (((1189013.444 1573682.474, 11891...</td>\n",
       "      <td>1705367</td>\n",
       "      <td>0.000354</td>\n",
       "      <td>-3.451365</td>\n",
       "      <td>347</td>\n",
       "    </tr>\n",
       "    <tr>\n",
       "      <th>2</th>\n",
       "      <td>45.0</td>\n",
       "      <td>MMR012D001</td>\n",
       "      <td>MULTIPOLYGON (((1142676.958 2229732.398, 11428...</td>\n",
       "      <td>859241</td>\n",
       "      <td>0.000274</td>\n",
       "      <td>-3.561715</td>\n",
       "      <td>718</td>\n",
       "    </tr>\n",
       "  </tbody>\n",
       "</table>\n",
       "</div>"
      ],
      "text/plain": [
       "   OBJECTID  ADM2_PCODE                                           geometry  \\\n",
       "0      81.0  MMR013D001  POLYGON ((1463967.925 1989966.573, 1465086.805...   \n",
       "1      82.0  MMR013D003  MULTIPOLYGON (((1189013.444 1573682.474, 11891...   \n",
       "2      45.0  MMR012D001  MULTIPOLYGON (((1142676.958 2229732.398, 11428...   \n",
       "\n",
       "   Total Population  Population Density  Log_Pop_Den  Number of Terror events  \n",
       "0           3125668            0.000659    -3.181068                      910  \n",
       "1           1705367            0.000354    -3.451365                      347  \n",
       "2            859241            0.000274    -3.561715                      718  "
      ]
     },
     "execution_count": 35,
     "metadata": {},
     "output_type": "execute_result"
    }
   ],
   "source": [
    "terror.head(3)"
   ]
  },
  {
   "cell_type": "markdown",
   "id": "9beea3c1-3b96-493a-b556-a0c38e897f9e",
   "metadata": {},
   "source": [
    "## Min-Max scale the count columns \n",
    "\n",
    "Geometry column is causing issues during normalization. For that reason, I will:\n",
    "\n",
    "1.) drop the geometry column to create DataFrame from GeoDataFrame\n",
    "\n",
    "2.) scale the numeric columns \n",
    "\n",
    "3.) Reconnect geometry to recreate GeoDataFrame and drop outliers"
   ]
  },
  {
   "cell_type": "code",
   "execution_count": 36,
   "id": "6c3bf4fd-7b24-46c4-9500-9a2440c6831b",
   "metadata": {},
   "outputs": [],
   "source": [
    "terror_df = pd.DataFrame(terror.drop('geometry', axis=1))"
   ]
  },
  {
   "cell_type": "code",
   "execution_count": 37,
   "id": "6b39dc3d-9097-45ba-98e1-5ea9af43b05a",
   "metadata": {},
   "outputs": [
    {
     "name": "stdout",
     "output_type": "stream",
     "text": [
      "<class 'pandas.core.frame.DataFrame'>\n"
     ]
    }
   ],
   "source": [
    "print(type(terror_df))"
   ]
  },
  {
   "cell_type": "code",
   "execution_count": 38,
   "id": "52f77133-a5dd-4f63-bc5d-a340cd18a678",
   "metadata": {},
   "outputs": [
    {
     "data": {
      "text/html": [
       "<div>\n",
       "<style scoped>\n",
       "    .dataframe tbody tr th:only-of-type {\n",
       "        vertical-align: middle;\n",
       "    }\n",
       "\n",
       "    .dataframe tbody tr th {\n",
       "        vertical-align: top;\n",
       "    }\n",
       "\n",
       "    .dataframe thead th {\n",
       "        text-align: right;\n",
       "    }\n",
       "</style>\n",
       "<table border=\"1\" class=\"dataframe\">\n",
       "  <thead>\n",
       "    <tr style=\"text-align: right;\">\n",
       "      <th></th>\n",
       "      <th>OBJECTID</th>\n",
       "      <th>ADM2_PCODE</th>\n",
       "      <th>Total Population</th>\n",
       "      <th>Population Density</th>\n",
       "      <th>Log_Pop_Den</th>\n",
       "      <th>Number of Terror events</th>\n",
       "    </tr>\n",
       "  </thead>\n",
       "  <tbody>\n",
       "    <tr>\n",
       "      <th>72</th>\n",
       "      <td>0.146341</td>\n",
       "      <td>MMR004D004</td>\n",
       "      <td>0.041434</td>\n",
       "      <td>0.011994</td>\n",
       "      <td>0.215117</td>\n",
       "      <td>0.242369</td>\n",
       "    </tr>\n",
       "    <tr>\n",
       "      <th>73</th>\n",
       "      <td>0.219512</td>\n",
       "      <td>MMR002D002</td>\n",
       "      <td>0.004286</td>\n",
       "      <td>0.008702</td>\n",
       "      <td>0.175622</td>\n",
       "      <td>0.022323</td>\n",
       "    </tr>\n",
       "    <tr>\n",
       "      <th>74</th>\n",
       "      <td>0.658537</td>\n",
       "      <td>MMR005S001</td>\n",
       "      <td>0.027318</td>\n",
       "      <td>0.007815</td>\n",
       "      <td>0.163445</td>\n",
       "      <td>0.006834</td>\n",
       "    </tr>\n",
       "    <tr>\n",
       "      <th>75</th>\n",
       "      <td>0.280488</td>\n",
       "      <td>MMR003D004</td>\n",
       "      <td>0.000000</td>\n",
       "      <td>0.002425</td>\n",
       "      <td>0.066623</td>\n",
       "      <td>0.157175</td>\n",
       "    </tr>\n",
       "    <tr>\n",
       "      <th>76</th>\n",
       "      <td>0.207317</td>\n",
       "      <td>MMR001D004</td>\n",
       "      <td>0.023685</td>\n",
       "      <td>0.000000</td>\n",
       "      <td>0.000000</td>\n",
       "      <td>0.091572</td>\n",
       "    </tr>\n",
       "  </tbody>\n",
       "</table>\n",
       "</div>"
      ],
      "text/plain": [
       "    OBJECTID  ADM2_PCODE  Total Population  Population Density  Log_Pop_Den  \\\n",
       "72  0.146341  MMR004D004          0.041434            0.011994     0.215117   \n",
       "73  0.219512  MMR002D002          0.004286            0.008702     0.175622   \n",
       "74  0.658537  MMR005S001          0.027318            0.007815     0.163445   \n",
       "75  0.280488  MMR003D004          0.000000            0.002425     0.066623   \n",
       "76  0.207317  MMR001D004          0.023685            0.000000     0.000000   \n",
       "\n",
       "    Number of Terror events  \n",
       "72                 0.242369  \n",
       "73                 0.022323  \n",
       "74                 0.006834  \n",
       "75                 0.157175  \n",
       "76                 0.091572  "
      ]
     },
     "execution_count": 38,
     "metadata": {},
     "output_type": "execute_result"
    }
   ],
   "source": [
    "num = terror_df.select_dtypes(include='number')\n",
    "df_norm = (num - num.min())/(num.max()-num.min())\n",
    "terror_df[df_norm.columns] = df_norm\n",
    "terror_df.tail()"
   ]
  },
  {
   "cell_type": "code",
   "execution_count": 39,
   "id": "c4d2a53d-d4a3-42a2-adde-111529324a71",
   "metadata": {},
   "outputs": [
    {
     "data": {
      "text/html": [
       "<div>\n",
       "<style scoped>\n",
       "    .dataframe tbody tr th:only-of-type {\n",
       "        vertical-align: middle;\n",
       "    }\n",
       "\n",
       "    .dataframe tbody tr th {\n",
       "        vertical-align: top;\n",
       "    }\n",
       "\n",
       "    .dataframe thead th {\n",
       "        text-align: right;\n",
       "    }\n",
       "</style>\n",
       "<table border=\"1\" class=\"dataframe\">\n",
       "  <thead>\n",
       "    <tr style=\"text-align: right;\">\n",
       "      <th></th>\n",
       "      <th>OBJECTID</th>\n",
       "      <th>ST</th>\n",
       "      <th>ST_PCODE</th>\n",
       "      <th>DT</th>\n",
       "      <th>ADM2_PCODE</th>\n",
       "      <th>DT_MMR4</th>\n",
       "      <th>S_ADMIN</th>\n",
       "      <th>PCode_V</th>\n",
       "      <th>geometry</th>\n",
       "    </tr>\n",
       "  </thead>\n",
       "  <tbody>\n",
       "    <tr>\n",
       "      <th>0</th>\n",
       "      <td>0.0</td>\n",
       "      <td>Ayeyarwady</td>\n",
       "      <td>MMR017</td>\n",
       "      <td>Hinthada</td>\n",
       "      <td>MMR017D002</td>\n",
       "      <td>áááºá¹áá¬áááá­á¯ááº</td>\n",
       "      <td>None</td>\n",
       "      <td>9.3</td>\n",
       "      <td>POLYGON ((1360350.985 2065240.167, 1360711.674...</td>\n",
       "    </tr>\n",
       "    <tr>\n",
       "      <th>1</th>\n",
       "      <td>1.0</td>\n",
       "      <td>Ayeyarwady</td>\n",
       "      <td>MMR017</td>\n",
       "      <td>Labutta</td>\n",
       "      <td>MMR017D004</td>\n",
       "      <td>ááá½áá¹áá¬ááá­á¯ááº</td>\n",
       "      <td>None</td>\n",
       "      <td>9.3</td>\n",
       "      <td>MULTIPOLYGON (((1366173.997 1757168.684, 13662...</td>\n",
       "    </tr>\n",
       "    <tr>\n",
       "      <th>2</th>\n",
       "      <td>2.0</td>\n",
       "      <td>Ayeyarwady</td>\n",
       "      <td>MMR017</td>\n",
       "      <td>Maubin</td>\n",
       "      <td>MMR017D005</td>\n",
       "      <td>áá¡á°áááºááá­á¯ááº</td>\n",
       "      <td>None</td>\n",
       "      <td>9.3</td>\n",
       "      <td>POLYGON ((1393141.870 1944376.654, 1393406.699...</td>\n",
       "    </tr>\n",
       "  </tbody>\n",
       "</table>\n",
       "</div>"
      ],
      "text/plain": [
       "   OBJECTID          ST ST_PCODE        DT  ADM2_PCODE  \\\n",
       "0       0.0  Ayeyarwady   MMR017  Hinthada  MMR017D002   \n",
       "1       1.0  Ayeyarwady   MMR017   Labutta  MMR017D004   \n",
       "2       2.0  Ayeyarwady   MMR017    Maubin  MMR017D005   \n",
       "\n",
       "                                   DT_MMR4 S_ADMIN PCode_V  \\\n",
       "0  áááºá¹áá¬áááá­á¯ááº    None     9.3   \n",
       "1  ááá½áá¹áá¬ááá­á¯ááº    None     9.3   \n",
       "2     áá¡á°áááºááá­á¯ááº    None     9.3   \n",
       "\n",
       "                                            geometry  \n",
       "0  POLYGON ((1360350.985 2065240.167, 1360711.674...  \n",
       "1  MULTIPOLYGON (((1366173.997 1757168.684, 13662...  \n",
       "2  POLYGON ((1393141.870 1944376.654, 1393406.699...  "
      ]
     },
     "execution_count": 39,
     "metadata": {},
     "output_type": "execute_result"
    }
   ],
   "source": [
    "dt_gdf.head(3)"
   ]
  },
  {
   "cell_type": "code",
   "execution_count": 41,
   "id": "7459a01b-22a5-40da-b50c-7de068987aef",
   "metadata": {},
   "outputs": [
    {
     "data": {
      "text/html": [
       "<div>\n",
       "<style scoped>\n",
       "    .dataframe tbody tr th:only-of-type {\n",
       "        vertical-align: middle;\n",
       "    }\n",
       "\n",
       "    .dataframe tbody tr th {\n",
       "        vertical-align: top;\n",
       "    }\n",
       "\n",
       "    .dataframe thead th {\n",
       "        text-align: right;\n",
       "    }\n",
       "</style>\n",
       "<table border=\"1\" class=\"dataframe\">\n",
       "  <thead>\n",
       "    <tr style=\"text-align: right;\">\n",
       "      <th></th>\n",
       "      <th>ADM2_PCODE</th>\n",
       "      <th>geometry</th>\n",
       "      <th>Total Population</th>\n",
       "      <th>Number of Terror events</th>\n",
       "      <th>Population Density</th>\n",
       "      <th>Log_Pop_Den</th>\n",
       "    </tr>\n",
       "  </thead>\n",
       "  <tbody>\n",
       "    <tr>\n",
       "      <th>38</th>\n",
       "      <td>MMR013D001</td>\n",
       "      <td>POLYGON ((1463967.925 1989966.573, 1465086.805...</td>\n",
       "      <td>1.000000</td>\n",
       "      <td>0.412756</td>\n",
       "      <td>1.000000</td>\n",
       "      <td>1.000000</td>\n",
       "    </tr>\n",
       "    <tr>\n",
       "      <th>39</th>\n",
       "      <td>MMR013D003</td>\n",
       "      <td>MULTIPOLYGON (((1189013.444 1573682.474, 11891...</td>\n",
       "      <td>0.540003</td>\n",
       "      <td>0.156264</td>\n",
       "      <td>0.533907</td>\n",
       "      <td>0.878673</td>\n",
       "    </tr>\n",
       "    <tr>\n",
       "      <th>54</th>\n",
       "      <td>MMR012D001</td>\n",
       "      <td>MULTIPOLYGON (((1142676.958 2229732.398, 11428...</td>\n",
       "      <td>0.265965</td>\n",
       "      <td>0.325285</td>\n",
       "      <td>0.412774</td>\n",
       "      <td>0.829140</td>\n",
       "    </tr>\n",
       "    <tr>\n",
       "      <th>3</th>\n",
       "      <td>MMR017D003</td>\n",
       "      <td>POLYGON ((1378067.102 1890161.506, 1378255.867...</td>\n",
       "      <td>0.243598</td>\n",
       "      <td>0.030068</td>\n",
       "      <td>0.380078</td>\n",
       "      <td>0.813292</td>\n",
       "    </tr>\n",
       "    <tr>\n",
       "      <th>62</th>\n",
       "      <td>MMR005D003</td>\n",
       "      <td>POLYGON ((1340629.745 2524241.369, 1341180.089...</td>\n",
       "      <td>0.251402</td>\n",
       "      <td>0.579954</td>\n",
       "      <td>0.345123</td>\n",
       "      <td>0.794789</td>\n",
       "    </tr>\n",
       "  </tbody>\n",
       "</table>\n",
       "</div>"
      ],
      "text/plain": [
       "    ADM2_PCODE                                           geometry  \\\n",
       "38  MMR013D001  POLYGON ((1463967.925 1989966.573, 1465086.805...   \n",
       "39  MMR013D003  MULTIPOLYGON (((1189013.444 1573682.474, 11891...   \n",
       "54  MMR012D001  MULTIPOLYGON (((1142676.958 2229732.398, 11428...   \n",
       "3   MMR017D003  POLYGON ((1378067.102 1890161.506, 1378255.867...   \n",
       "62  MMR005D003  POLYGON ((1340629.745 2524241.369, 1341180.089...   \n",
       "\n",
       "    Total Population  Number of Terror events  Population Density  Log_Pop_Den  \n",
       "38          1.000000                 0.412756            1.000000     1.000000  \n",
       "39          0.540003                 0.156264            0.533907     0.878673  \n",
       "54          0.265965                 0.325285            0.412774     0.829140  \n",
       "3           0.243598                 0.030068            0.380078     0.813292  \n",
       "62          0.251402                 0.579954            0.345123     0.794789  "
      ]
     },
     "execution_count": 41,
     "metadata": {},
     "output_type": "execute_result"
    }
   ],
   "source": [
    "terror_scaled = pd.merge(dt_gdf,terror_df[['ADM2_PCODE','Total Population', 'Number of Terror events','Population Density','Log_Pop_Den']],on='ADM2_PCODE', how='left')\n",
    "terror_scaled = terror_scaled.drop(columns = ['OBJECTID','ST', 'ST_PCODE', 'DT', 'DT_MMR4', 'S_ADMIN','PCode_V']).drop([37,40,41])\n",
    "terror_scaled.sort_values(by=['Log_Pop_Den'], ascending=False, na_position='first').head()"
   ]
  },
  {
   "cell_type": "markdown",
   "id": "ed0b6985-2336-4566-a6f6-07f1d5eda8da",
   "metadata": {},
   "source": [
    "## Drop additional outlier\n",
    "Drop ADM2_PCODE = MMR001D004 because the population density == 0 "
   ]
  },
  {
   "cell_type": "code",
   "execution_count": 42,
   "id": "f120311c-8297-4ad8-bace-731af541fffa",
   "metadata": {},
   "outputs": [
    {
     "data": {
      "text/html": [
       "<div>\n",
       "<style scoped>\n",
       "    .dataframe tbody tr th:only-of-type {\n",
       "        vertical-align: middle;\n",
       "    }\n",
       "\n",
       "    .dataframe tbody tr th {\n",
       "        vertical-align: top;\n",
       "    }\n",
       "\n",
       "    .dataframe thead th {\n",
       "        text-align: right;\n",
       "    }\n",
       "</style>\n",
       "<table border=\"1\" class=\"dataframe\">\n",
       "  <thead>\n",
       "    <tr style=\"text-align: right;\">\n",
       "      <th></th>\n",
       "      <th>ADM2_PCODE</th>\n",
       "      <th>geometry</th>\n",
       "      <th>Total Population</th>\n",
       "      <th>Number of Terror events</th>\n",
       "      <th>Population Density</th>\n",
       "      <th>Log_Pop_Den</th>\n",
       "    </tr>\n",
       "  </thead>\n",
       "  <tbody>\n",
       "    <tr>\n",
       "      <th>17</th>\n",
       "      <td>MMR001D004</td>\n",
       "      <td>POLYGON ((1540266.346 3201468.118, 1539901.260...</td>\n",
       "      <td>0.023685</td>\n",
       "      <td>0.091572</td>\n",
       "      <td>0.0</td>\n",
       "      <td>0.0</td>\n",
       "    </tr>\n",
       "  </tbody>\n",
       "</table>\n",
       "</div>"
      ],
      "text/plain": [
       "    ADM2_PCODE                                           geometry  \\\n",
       "17  MMR001D004  POLYGON ((1540266.346 3201468.118, 1539901.260...   \n",
       "\n",
       "    Total Population  Number of Terror events  Population Density  Log_Pop_Den  \n",
       "17          0.023685                 0.091572                 0.0          0.0  "
      ]
     },
     "execution_count": 42,
     "metadata": {},
     "output_type": "execute_result"
    }
   ],
   "source": [
    "check = terror_scaled.loc[pop_gdf['ADM2_PCODE'] == 'MMR001D004']\n",
    "check"
   ]
  },
  {
   "cell_type": "code",
   "execution_count": 43,
   "id": "b6c10259-1c1b-49b9-81d8-3a1657be3e75",
   "metadata": {},
   "outputs": [],
   "source": [
    "terror_scaled = terror_scaled.drop([17])"
   ]
  },
  {
   "cell_type": "markdown",
   "id": "ad44f910-db7e-4bb0-ad9f-d670e54341bc",
   "metadata": {},
   "source": [
    "## Visualize spatial distributions of different scaled population, population density, and terror events"
   ]
  },
  {
   "cell_type": "code",
   "execution_count": 44,
   "id": "fca2d286-1a5f-4628-98f4-7a8216607be5",
   "metadata": {},
   "outputs": [],
   "source": [
    "cluster_variables = ['Number of Terror events', 'Log_Pop_Den']"
   ]
  },
  {
   "cell_type": "code",
   "execution_count": 45,
   "id": "11b39a33-cb50-4fd0-9d44-34d6a709423f",
   "metadata": {},
   "outputs": [
    {
     "data": {
      "image/png": "[encoded data removed]",
      "text/plain": [
       "<Figure size 576x1152 with 2 Axes>"
      ]
     },
     "metadata": {
      "needs_background": "light"
     },
     "output_type": "display_data"
    }
   ],
   "source": [
    "f, axs = plt.subplots(nrows=1, ncols=2, figsize=(8, 16))\n",
    "# Make the axes accessible with single indexing\n",
    "axs = axs.flatten()\n",
    "# Start a loop over all the variables of interest\n",
    "for i, col in enumerate(cluster_variables):\n",
    "    # select the axis where the map will go\n",
    "    ax = axs[i]\n",
    "    # Plot the map\n",
    "    terror_scaled.plot(\n",
    "        column=col,\n",
    "        ax=ax,\n",
    "        scheme=\"Quantiles\",\n",
    "        linewidth=0,\n",
    "        cmap=\"RdPu\",\n",
    "    )\n",
    "    # Remove axis clutter\n",
    "    ax.set_axis_off()\n",
    "    # Set the axis title to the name of variable being plotted\n",
    "    ax.set_title(col)\n",
    "# Display the figure\n",
    "plt.show()"
   ]
  },
  {
   "cell_type": "markdown",
   "id": "23ad7c49-79a2-4f11-8f07-c4d7de836424",
   "metadata": {},
   "source": [
    "Visual inspection suggests that area with higher population density are **not** more prone to terror attacks.\n",
    "\n",
    "Let's dig deeper."
   ]
  },
  {
   "cell_type": "markdown",
   "id": "3f407352-49e6-4181-8552-efe4c15af0d2",
   "metadata": {},
   "source": [
    "## Calculate for global correlation between population density and terror count"
   ]
  },
  {
   "cell_type": "code",
   "execution_count": 46,
   "id": "60518b12-b74d-4118-a1ab-5f160ad879cf",
   "metadata": {},
   "outputs": [
    {
     "data": {
      "text/plain": [
       "0.16880675211516763"
      ]
     },
     "execution_count": 46,
     "metadata": {},
     "output_type": "execute_result"
    }
   ],
   "source": [
    "terror_scaled['Number of Terror events'].corr(terror_scaled['Log_Pop_Den'])"
   ]
  },
  {
   "cell_type": "code",
   "execution_count": 47,
   "id": "e3c146c4-3b0f-40bb-98bd-10b7a095cd30",
   "metadata": {},
   "outputs": [],
   "source": [
    "temp_terr = terror_scaled[['Total Population','Population Density','Log_Pop_Den','Number of Terror events']]"
   ]
  },
  {
   "cell_type": "code",
   "execution_count": 48,
   "id": "0b0c23f9-9071-46e3-b029-2a8a989496e4",
   "metadata": {},
   "outputs": [
    {
     "data": {
      "text/html": [
       "<div>\n",
       "<style scoped>\n",
       "    .dataframe tbody tr th:only-of-type {\n",
       "        vertical-align: middle;\n",
       "    }\n",
       "\n",
       "    .dataframe tbody tr th {\n",
       "        vertical-align: top;\n",
       "    }\n",
       "\n",
       "    .dataframe thead th {\n",
       "        text-align: right;\n",
       "    }\n",
       "</style>\n",
       "<table border=\"1\" class=\"dataframe\">\n",
       "  <thead>\n",
       "    <tr style=\"text-align: right;\">\n",
       "      <th></th>\n",
       "      <th>Total Population</th>\n",
       "      <th>Population Density</th>\n",
       "      <th>Log_Pop_Den</th>\n",
       "      <th>Number of Terror events</th>\n",
       "    </tr>\n",
       "  </thead>\n",
       "  <tbody>\n",
       "    <tr>\n",
       "      <th>Total Population</th>\n",
       "      <td>1.000000</td>\n",
       "      <td>0.802816</td>\n",
       "      <td>0.735153</td>\n",
       "      <td>0.219085</td>\n",
       "    </tr>\n",
       "    <tr>\n",
       "      <th>Population Density</th>\n",
       "      <td>0.802816</td>\n",
       "      <td>1.000000</td>\n",
       "      <td>0.832960</td>\n",
       "      <td>0.120484</td>\n",
       "    </tr>\n",
       "    <tr>\n",
       "      <th>Log_Pop_Den</th>\n",
       "      <td>0.735153</td>\n",
       "      <td>0.832960</td>\n",
       "      <td>1.000000</td>\n",
       "      <td>0.168807</td>\n",
       "    </tr>\n",
       "    <tr>\n",
       "      <th>Number of Terror events</th>\n",
       "      <td>0.219085</td>\n",
       "      <td>0.120484</td>\n",
       "      <td>0.168807</td>\n",
       "      <td>1.000000</td>\n",
       "    </tr>\n",
       "  </tbody>\n",
       "</table>\n",
       "</div>"
      ],
      "text/plain": [
       "                         Total Population  Population Density  Log_Pop_Den  \\\n",
       "Total Population                 1.000000            0.802816     0.735153   \n",
       "Population Density               0.802816            1.000000     0.832960   \n",
       "Log_Pop_Den                      0.735153            0.832960     1.000000   \n",
       "Number of Terror events          0.219085            0.120484     0.168807   \n",
       "\n",
       "                         Number of Terror events  \n",
       "Total Population                        0.219085  \n",
       "Population Density                      0.120484  \n",
       "Log_Pop_Den                             0.168807  \n",
       "Number of Terror events                 1.000000  "
      ]
     },
     "execution_count": 48,
     "metadata": {},
     "output_type": "execute_result"
    }
   ],
   "source": [
    "temp_terr.corr()"
   ]
  },
  {
   "cell_type": "markdown",
   "id": "688140aa-a892-46d0-839d-8ffacb4c0912",
   "metadata": {},
   "source": [
    "Globally, the number of terror events has a low correlation coefficient with total population, population density, and log-transformed population density."
   ]
  },
  {
   "cell_type": "markdown",
   "id": "f00e5ec0-52b5-438c-8eff-045e93f9c511",
   "metadata": {},
   "source": [
    "## Clustering (not spatially explicit)"
   ]
  },
  {
   "cell_type": "code",
   "execution_count": 49,
   "id": "7956fa78-fb2b-44e3-b551-86daebd0d5d3",
   "metadata": {},
   "outputs": [
    {
     "data": {
      "text/html": [
       "<div>\n",
       "<style scoped>\n",
       "    .dataframe tbody tr th:only-of-type {\n",
       "        vertical-align: middle;\n",
       "    }\n",
       "\n",
       "    .dataframe tbody tr th {\n",
       "        vertical-align: top;\n",
       "    }\n",
       "\n",
       "    .dataframe thead th {\n",
       "        text-align: right;\n",
       "    }\n",
       "</style>\n",
       "<table border=\"1\" class=\"dataframe\">\n",
       "  <thead>\n",
       "    <tr style=\"text-align: right;\">\n",
       "      <th></th>\n",
       "      <th>ADM2_PCODE</th>\n",
       "      <th>geometry</th>\n",
       "      <th>Total Population</th>\n",
       "      <th>Number of Terror events</th>\n",
       "      <th>Population Density</th>\n",
       "      <th>Log_Pop_Den</th>\n",
       "    </tr>\n",
       "  </thead>\n",
       "  <tbody>\n",
       "    <tr>\n",
       "      <th>38</th>\n",
       "      <td>MMR013D001</td>\n",
       "      <td>POLYGON ((1463967.925 1989966.573, 1465086.805...</td>\n",
       "      <td>1.000000</td>\n",
       "      <td>0.412756</td>\n",
       "      <td>1.000000</td>\n",
       "      <td>1.000000</td>\n",
       "    </tr>\n",
       "    <tr>\n",
       "      <th>39</th>\n",
       "      <td>MMR013D003</td>\n",
       "      <td>MULTIPOLYGON (((1189013.444 1573682.474, 11891...</td>\n",
       "      <td>0.540003</td>\n",
       "      <td>0.156264</td>\n",
       "      <td>0.533907</td>\n",
       "      <td>0.878673</td>\n",
       "    </tr>\n",
       "    <tr>\n",
       "      <th>54</th>\n",
       "      <td>MMR012D001</td>\n",
       "      <td>MULTIPOLYGON (((1142676.958 2229732.398, 11428...</td>\n",
       "      <td>0.265965</td>\n",
       "      <td>0.325285</td>\n",
       "      <td>0.412774</td>\n",
       "      <td>0.829140</td>\n",
       "    </tr>\n",
       "    <tr>\n",
       "      <th>3</th>\n",
       "      <td>MMR017D003</td>\n",
       "      <td>POLYGON ((1378067.102 1890161.506, 1378255.867...</td>\n",
       "      <td>0.243598</td>\n",
       "      <td>0.030068</td>\n",
       "      <td>0.380078</td>\n",
       "      <td>0.813292</td>\n",
       "    </tr>\n",
       "    <tr>\n",
       "      <th>62</th>\n",
       "      <td>MMR005D003</td>\n",
       "      <td>POLYGON ((1340629.745 2524241.369, 1341180.089...</td>\n",
       "      <td>0.251402</td>\n",
       "      <td>0.579954</td>\n",
       "      <td>0.345123</td>\n",
       "      <td>0.794789</td>\n",
       "    </tr>\n",
       "    <tr>\n",
       "      <th>...</th>\n",
       "      <td>...</td>\n",
       "      <td>...</td>\n",
       "      <td>...</td>\n",
       "      <td>...</td>\n",
       "      <td>...</td>\n",
       "      <td>...</td>\n",
       "    </tr>\n",
       "    <tr>\n",
       "      <th>13</th>\n",
       "      <td>MMR004D002</td>\n",
       "      <td>POLYGON ((1191353.272 2424270.225, 1192186.003...</td>\n",
       "      <td>0.010886</td>\n",
       "      <td>0.142141</td>\n",
       "      <td>0.012836</td>\n",
       "      <td>0.224060</td>\n",
       "    </tr>\n",
       "    <tr>\n",
       "      <th>12</th>\n",
       "      <td>MMR004D004</td>\n",
       "      <td>POLYGON ((1156067.186 2471818.082, 1156744.551...</td>\n",
       "      <td>0.041434</td>\n",
       "      <td>0.242369</td>\n",
       "      <td>0.011994</td>\n",
       "      <td>0.215117</td>\n",
       "    </tr>\n",
       "    <tr>\n",
       "      <th>18</th>\n",
       "      <td>MMR002D002</td>\n",
       "      <td>POLYGON ((1610974.752 2171553.744, 1611179.340...</td>\n",
       "      <td>0.004286</td>\n",
       "      <td>0.022323</td>\n",
       "      <td>0.008702</td>\n",
       "      <td>0.175622</td>\n",
       "    </tr>\n",
       "    <tr>\n",
       "      <th>30</th>\n",
       "      <td>MMR005S001</td>\n",
       "      <td>MULTIPOLYGON (((1308038.043 2871386.892, 13082...</td>\n",
       "      <td>0.027318</td>\n",
       "      <td>0.006834</td>\n",
       "      <td>0.007815</td>\n",
       "      <td>0.163445</td>\n",
       "    </tr>\n",
       "    <tr>\n",
       "      <th>21</th>\n",
       "      <td>MMR003D004</td>\n",
       "      <td>POLYGON ((1597949.032 2088064.538, 1597981.999...</td>\n",
       "      <td>0.000000</td>\n",
       "      <td>0.157175</td>\n",
       "      <td>0.002425</td>\n",
       "      <td>0.066623</td>\n",
       "    </tr>\n",
       "  </tbody>\n",
       "</table>\n",
       "<p>76 rows × 6 columns</p>\n",
       "</div>"
      ],
      "text/plain": [
       "    ADM2_PCODE                                           geometry  \\\n",
       "38  MMR013D001  POLYGON ((1463967.925 1989966.573, 1465086.805...   \n",
       "39  MMR013D003  MULTIPOLYGON (((1189013.444 1573682.474, 11891...   \n",
       "54  MMR012D001  MULTIPOLYGON (((1142676.958 2229732.398, 11428...   \n",
       "3   MMR017D003  POLYGON ((1378067.102 1890161.506, 1378255.867...   \n",
       "62  MMR005D003  POLYGON ((1340629.745 2524241.369, 1341180.089...   \n",
       "..         ...                                                ...   \n",
       "13  MMR004D002  POLYGON ((1191353.272 2424270.225, 1192186.003...   \n",
       "12  MMR004D004  POLYGON ((1156067.186 2471818.082, 1156744.551...   \n",
       "18  MMR002D002  POLYGON ((1610974.752 2171553.744, 1611179.340...   \n",
       "30  MMR005S001  MULTIPOLYGON (((1308038.043 2871386.892, 13082...   \n",
       "21  MMR003D004  POLYGON ((1597949.032 2088064.538, 1597981.999...   \n",
       "\n",
       "    Total Population  Number of Terror events  Population Density  Log_Pop_Den  \n",
       "38          1.000000                 0.412756            1.000000     1.000000  \n",
       "39          0.540003                 0.156264            0.533907     0.878673  \n",
       "54          0.265965                 0.325285            0.412774     0.829140  \n",
       "3           0.243598                 0.030068            0.380078     0.813292  \n",
       "62          0.251402                 0.579954            0.345123     0.794789  \n",
       "..               ...                      ...                 ...          ...  \n",
       "13          0.010886                 0.142141            0.012836     0.224060  \n",
       "12          0.041434                 0.242369            0.011994     0.215117  \n",
       "18          0.004286                 0.022323            0.008702     0.175622  \n",
       "30          0.027318                 0.006834            0.007815     0.163445  \n",
       "21          0.000000                 0.157175            0.002425     0.066623  \n",
       "\n",
       "[76 rows x 6 columns]"
      ]
     },
     "execution_count": 49,
     "metadata": {},
     "output_type": "execute_result"
    }
   ],
   "source": [
    "terror_scaled.sort_values(by=['Log_Pop_Den'], ascending=False, na_position='first')"
   ]
  },
  {
   "cell_type": "code",
   "execution_count": 60,
   "id": "574a2595-e47d-4e25-81d0-1da36295bbd5",
   "metadata": {},
   "outputs": [
    {
     "name": "stderr",
     "output_type": "stream",
     "text": [
      "C:\\Users\\andre\\anaconda3\\lib\\site-packages\\sklearn\\cluster\\_kmeans.py:1036: UserWarning: KMeans is known to have a memory leak on Windows with MKL, when there are less chunks than available threads. You can avoid it by setting the environment variable OMP_NUM_THREADS=1.\n",
      "  warnings.warn(\n"
     ]
    },
    {
     "data": {
      "text/plain": [
       "<matplotlib.lines.Line2D at 0x1f4679029a0>"
      ]
     },
     "execution_count": 60,
     "metadata": {},
     "output_type": "execute_result"
    },
    {
     "data": {
      "image/png": "[encoded data removed]",
      "text/plain": [
       "<Figure size 432x288 with 1 Axes>"
      ]
     },
     "metadata": {},
     "output_type": "display_data"
    }
   ],
   "source": [
    "wcss = []\n",
    "for clusters in range (1,30):\n",
    "    model = cluster.KMeans(n_clusters=clusters)\n",
    "    #Fit model to only number of terror events and Log-Transformed Population Density\n",
    "    model.fit(terror_scaled.drop(['geometry', 'ADM2_PCODE','Total Population','Population Density'], axis=1).values)\n",
    "    wcss.append(model.inertia_)\n",
    "x_ax = []\n",
    "for x in range (1,30):\n",
    "    x_ax.append(x)\n",
    "plt.plot(x_ax,wcss)\n",
    "plt.xlabel('Number of Clusters')\n",
    "plt.ylabel('WCSS')\n",
    "plt.axvline(6, linestyle='--', color='r')"
   ]
  },
  {
   "cell_type": "markdown",
   "id": "05a4750a-0d5a-4c48-8ec1-ad9068ceaeac",
   "metadata": {},
   "source": [
    "WCSS plot levels off at  k=6"
   ]
  },
  {
   "cell_type": "code",
   "execution_count": 52,
   "id": "0de7c272-9726-4a6b-b692-abe96fa07ab1",
   "metadata": {},
   "outputs": [],
   "source": [
    "km6 = cluster.KMeans(n_clusters=6)"
   ]
  },
  {
   "cell_type": "code",
   "execution_count": 53,
   "id": "4f5fbe1d-31d7-4583-8450-734961bb0c7b",
   "metadata": {},
   "outputs": [],
   "source": [
    "km6cls = km6.fit(terror_scaled.drop(['geometry', 'ADM2_PCODE','Total Population','Population Density'], axis=1).values)"
   ]
  },
  {
   "cell_type": "code",
   "execution_count": 54,
   "id": "8c1daf68-fde2-461d-8ebe-d054f104a17f",
   "metadata": {},
   "outputs": [
    {
     "data": {
      "image/png": "[encoded data removed]",
      "text/plain": [
       "<Figure size 648x648 with 1 Axes>"
      ]
     },
     "metadata": {
      "needs_background": "light"
     },
     "output_type": "display_data"
    }
   ],
   "source": [
    "terror_scaled['km6cls']=km6cls.labels_\n",
    "f, ax = plt.subplots(1,figsize=(9,9))\n",
    "terror_scaled.plot(column='km6cls',categorical=True, legend=True, linewidth=0, ax=ax)\n",
    "ax.set_axis_off()\n",
    "plt.show()"
   ]
  },
  {
   "cell_type": "code",
   "execution_count": 55,
   "id": "0a63a5a7-3658-484d-bc5d-8a24f399947f",
   "metadata": {},
   "outputs": [
    {
     "data": {
      "text/plain": [
       "km6cls\n",
       "0    22\n",
       "1     8\n",
       "2     9\n",
       "3    18\n",
       "4    14\n",
       "5     5\n",
       "dtype: int64"
      ]
     },
     "execution_count": 55,
     "metadata": {},
     "output_type": "execute_result"
    }
   ],
   "source": [
    "# Group data table by cluster label and count observations\n",
    "k6sizes = terror_scaled.groupby(\"km6cls\").size()\n",
    "k6sizes"
   ]
  },
  {
   "cell_type": "code",
   "execution_count": 56,
   "id": "662c048d-95cf-4fc7-af6c-5ca7d81ceaec",
   "metadata": {},
   "outputs": [
    {
     "data": {
      "text/html": [
       "<div>\n",
       "<style scoped>\n",
       "    .dataframe tbody tr th:only-of-type {\n",
       "        vertical-align: middle;\n",
       "    }\n",
       "\n",
       "    .dataframe tbody tr th {\n",
       "        vertical-align: top;\n",
       "    }\n",
       "\n",
       "    .dataframe thead th {\n",
       "        text-align: right;\n",
       "    }\n",
       "</style>\n",
       "<table border=\"1\" class=\"dataframe\">\n",
       "  <thead>\n",
       "    <tr style=\"text-align: right;\">\n",
       "      <th>km6cls</th>\n",
       "      <th>0</th>\n",
       "      <th>1</th>\n",
       "      <th>2</th>\n",
       "      <th>3</th>\n",
       "      <th>4</th>\n",
       "      <th>5</th>\n",
       "    </tr>\n",
       "  </thead>\n",
       "  <tbody>\n",
       "    <tr>\n",
       "      <th>Number of Terror events</th>\n",
       "      <td>0.110</td>\n",
       "      <td>0.452</td>\n",
       "      <td>0.304</td>\n",
       "      <td>0.087</td>\n",
       "      <td>0.070</td>\n",
       "      <td>0.753</td>\n",
       "    </tr>\n",
       "    <tr>\n",
       "      <th>Log_Pop_Den</th>\n",
       "      <td>0.509</td>\n",
       "      <td>0.454</td>\n",
       "      <td>0.758</td>\n",
       "      <td>0.735</td>\n",
       "      <td>0.258</td>\n",
       "      <td>0.662</td>\n",
       "    </tr>\n",
       "  </tbody>\n",
       "</table>\n",
       "</div>"
      ],
      "text/plain": [
       "km6cls                       0      1      2      3      4      5\n",
       "Number of Terror events  0.110  0.452  0.304  0.087  0.070  0.753\n",
       "Log_Pop_Den              0.509  0.454  0.758  0.735  0.258  0.662"
      ]
     },
     "execution_count": 56,
     "metadata": {},
     "output_type": "execute_result"
    }
   ],
   "source": [
    "# Group table by cluster label, keep the variables used\n",
    "# for clustering, and obtain their mean\n",
    "km6means = terror_scaled.groupby(\"km6cls\")[cluster_variables].mean()\n",
    "# Transpose the table and print it rounding each value\n",
    "# to three decimals\n",
    "km6means.T.round(3)"
   ]
  },
  {
   "cell_type": "code",
   "execution_count": 58,
   "id": "c554442a-a00b-47cf-88f8-55ef0c81fbd6",
   "metadata": {},
   "outputs": [
    {
     "data": {
      "text/html": [
       "<div>\n",
       "<style scoped>\n",
       "    .dataframe tbody tr th:only-of-type {\n",
       "        vertical-align: middle;\n",
       "    }\n",
       "\n",
       "    .dataframe tbody tr th {\n",
       "        vertical-align: top;\n",
       "    }\n",
       "\n",
       "    .dataframe thead th {\n",
       "        text-align: right;\n",
       "    }\n",
       "</style>\n",
       "<table border=\"1\" class=\"dataframe\">\n",
       "  <thead>\n",
       "    <tr style=\"text-align: right;\">\n",
       "      <th></th>\n",
       "      <th>km6cls</th>\n",
       "      <th>Attribute</th>\n",
       "      <th>Values</th>\n",
       "    </tr>\n",
       "  </thead>\n",
       "  <tbody>\n",
       "    <tr>\n",
       "      <th>0</th>\n",
       "      <td>3</td>\n",
       "      <td>Number of Terror events</td>\n",
       "      <td>0.067882</td>\n",
       "    </tr>\n",
       "    <tr>\n",
       "      <th>1</th>\n",
       "      <td>3</td>\n",
       "      <td>Log_Pop_Den</td>\n",
       "      <td>0.728476</td>\n",
       "    </tr>\n",
       "    <tr>\n",
       "      <th>2</th>\n",
       "      <td>3</td>\n",
       "      <td>Number of Terror events</td>\n",
       "      <td>0.029613</td>\n",
       "    </tr>\n",
       "    <tr>\n",
       "      <th>3</th>\n",
       "      <td>3</td>\n",
       "      <td>Log_Pop_Den</td>\n",
       "      <td>0.731834</td>\n",
       "    </tr>\n",
       "    <tr>\n",
       "      <th>4</th>\n",
       "      <td>3</td>\n",
       "      <td>Number of Terror events</td>\n",
       "      <td>0.057403</td>\n",
       "    </tr>\n",
       "  </tbody>\n",
       "</table>\n",
       "</div>"
      ],
      "text/plain": [
       "   km6cls                Attribute    Values\n",
       "0       3  Number of Terror events  0.067882\n",
       "1       3              Log_Pop_Den  0.728476\n",
       "2       3  Number of Terror events  0.029613\n",
       "3       3              Log_Pop_Den  0.731834\n",
       "4       3  Number of Terror events  0.057403"
      ]
     },
     "execution_count": 58,
     "metadata": {},
     "output_type": "execute_result"
    }
   ],
   "source": [
    "# Index db on cluster ID\n",
    "tidy_db = terror_scaled.set_index(\"km6cls\")\n",
    "# Keep only variables used for clustering\n",
    "tidy_db = tidy_db[cluster_variables]\n",
    "# Stack column names into a column, obtaining\n",
    "# a \"long\" version of the dataset\n",
    "tidy_db = tidy_db.stack()\n",
    "# Take indices into proper columns\n",
    "tidy_db = tidy_db.reset_index()\n",
    "# Rename column names\n",
    "tidy_db = tidy_db.rename(\n",
    "    columns={\"level_1\": \"Attribute\", 0: \"Values\"}\n",
    ")\n",
    "# Check out result\n",
    "tidy_db.head()"
   ]
  },
  {
   "cell_type": "code",
   "execution_count": 61,
   "id": "964f28ea-d727-4e23-93ee-fe449f9d21c5",
   "metadata": {},
   "outputs": [
    {
     "data": {
      "image/png": "[encoded data removed]",
      "text/plain": [
       "<Figure size 1365.33x216 with 2 Axes>"
      ]
     },
     "metadata": {},
     "output_type": "display_data"
    }
   ],
   "source": [
    "# Scale fonts to make them more readable\n",
    "sns.set(font_scale=1.5)\n",
    "# Setup the facets\n",
    "facets = sns.FacetGrid(\n",
    "    data=tidy_db,\n",
    "    col=\"Attribute\",\n",
    "    hue=\"km6cls\",\n",
    "    sharey=False,\n",
    "    sharex=False,\n",
    "    aspect=2,\n",
    "    col_wrap=3,\n",
    ")\n",
    "# Build the plot from `sns.kdeplot`\n",
    "_ = facets.map(sns.kdeplot, \"Values\", shade=True).add_legend()"
   ]
  },
  {
   "cell_type": "markdown",
   "id": "a3afe970-c69a-4cdf-9f1f-9e760ed36ea5",
   "metadata": {},
   "source": [
    "The Facet's map shows that the number of terror events in most clusters appear to reach a maximum a at different values. The log-transformed population density is more similar across all clusters. There doesn't seem to be a particularly close alignment between the distribution of population density and number of terror events in each spatially inexplcit cluster."
   ]
  },
  {
   "cell_type": "markdown",
   "id": "de63e703-ca50-49bd-adaa-19fd516956e8",
   "metadata": {},
   "source": [
    "## Regionalization (spatially explicit)"
   ]
  },
  {
   "cell_type": "markdown",
   "id": "f69d932d-dc5f-4789-bd6e-a5a0c28e01dc",
   "metadata": {},
   "source": [
    "Drop columns from terror_scaled"
   ]
  },
  {
   "cell_type": "code",
   "execution_count": 62,
   "id": "859dfb88-c682-40e3-a545-dcea143a4bf9",
   "metadata": {},
   "outputs": [
    {
     "data": {
      "text/plain": [
       "Index(['ADM2_PCODE', 'geometry', 'Total Population', 'Number of Terror events',\n",
       "       'Population Density', 'Log_Pop_Den', 'km6cls'],\n",
       "      dtype='object')"
      ]
     },
     "execution_count": 62,
     "metadata": {},
     "output_type": "execute_result"
    }
   ],
   "source": [
    "terror_scaled.columns"
   ]
  },
  {
   "cell_type": "code",
   "execution_count": 63,
   "id": "97000fc9-4fb9-43e2-81a2-de1326aa4aad",
   "metadata": {},
   "outputs": [
    {
     "data": {
      "text/plain": [
       "Index(['geometry', 'Number of Terror events', 'Log_Pop_Den', 'km6cls'], dtype='object')"
      ]
     },
     "execution_count": 63,
     "metadata": {},
     "output_type": "execute_result"
    }
   ],
   "source": [
    "terror_scaled = terror_scaled.drop(columns=['ADM2_PCODE', 'Total Population','Population Density'])\n",
    "terror_scaled.columns"
   ]
  },
  {
   "cell_type": "markdown",
   "id": "1f3c04ed-acb9-4fd1-bbc5-af3fae0e436e",
   "metadata": {},
   "source": [
    "Queens case spatial contiguity"
   ]
  },
  {
   "cell_type": "code",
   "execution_count": 64,
   "id": "f2e61d01-fe1e-482b-b9e8-10a5d47ff5af",
   "metadata": {},
   "outputs": [],
   "source": [
    "w = Queen.from_dataframe(terror_scaled)"
   ]
  },
  {
   "cell_type": "code",
   "execution_count": 65,
   "id": "9366da3f-a0b4-4de5-9318-88b55fdb4eab",
   "metadata": {},
   "outputs": [],
   "source": [
    "cluster_variables = ['Number of Terror events', 'Log_Pop_Den']"
   ]
  },
  {
   "cell_type": "code",
   "execution_count": 66,
   "id": "c20c8ed8-cfea-4097-b2ef-7499305febce",
   "metadata": {},
   "outputs": [
    {
     "data": {
      "text/html": [
       "<div>\n",
       "<style scoped>\n",
       "    .dataframe tbody tr th:only-of-type {\n",
       "        vertical-align: middle;\n",
       "    }\n",
       "\n",
       "    .dataframe tbody tr th {\n",
       "        vertical-align: top;\n",
       "    }\n",
       "\n",
       "    .dataframe thead th {\n",
       "        text-align: right;\n",
       "    }\n",
       "</style>\n",
       "<table border=\"1\" class=\"dataframe\">\n",
       "  <thead>\n",
       "    <tr style=\"text-align: right;\">\n",
       "      <th></th>\n",
       "      <th>Moran's I</th>\n",
       "      <th>P-value</th>\n",
       "    </tr>\n",
       "    <tr>\n",
       "      <th>Variable</th>\n",
       "      <th></th>\n",
       "      <th></th>\n",
       "    </tr>\n",
       "  </thead>\n",
       "  <tbody>\n",
       "    <tr>\n",
       "      <th>Number of Terror events</th>\n",
       "      <td>0.347220</td>\n",
       "      <td>0.002</td>\n",
       "    </tr>\n",
       "    <tr>\n",
       "      <th>Log_Pop_Den</th>\n",
       "      <td>0.526152</td>\n",
       "      <td>0.001</td>\n",
       "    </tr>\n",
       "  </tbody>\n",
       "</table>\n",
       "</div>"
      ],
      "text/plain": [
       "                         Moran's I  P-value\n",
       "Variable                                   \n",
       "Number of Terror events   0.347220    0.002\n",
       "Log_Pop_Den               0.526152    0.001"
      ]
     },
     "execution_count": 66,
     "metadata": {},
     "output_type": "execute_result"
    }
   ],
   "source": [
    "# Calculate Moran's I for each variable\n",
    "mi_results = [Moran(terror_scaled[variable], w) for variable in cluster_variables]\n",
    "# Structure results as a list of tuples\n",
    "mi_results = [(variable, res.I, res.p_sim) for variable, res in zip(cluster_variables, mi_results)]\n",
    "# Display on table\n",
    "table = pd.DataFrame(\n",
    "    mi_results, columns=[\"Variable\", \"Moran's I\", \"P-value\"]\n",
    ").set_index(\"Variable\")\n",
    "table"
   ]
  },
  {
   "cell_type": "code",
   "execution_count": 67,
   "id": "b80fac5d-5c7d-467d-b96b-578770dccd46",
   "metadata": {},
   "outputs": [
    {
     "name": "stdout",
     "output_type": "stream",
     "text": [
      "                         Moran's I  P-value\n",
      "Variable                                   \n",
      "Number of Terror events   0.347220    0.002\n",
      "Log_Pop_Den               0.526152    0.001\n"
     ]
    }
   ],
   "source": [
    "print(table)"
   ]
  },
  {
   "cell_type": "code",
   "execution_count": 68,
   "id": "d54b70d9-3ed7-4e14-9630-bb58a1e2a3ae",
   "metadata": {},
   "outputs": [
    {
     "data": {
      "image/png": "[encoded data removed]",
      "text/plain": [
       "<Figure size 360x360 with 6 Axes>"
      ]
     },
     "metadata": {},
     "output_type": "display_data"
    }
   ],
   "source": [
    "_ = sns.pairplot(terror_scaled[cluster_variables], kind=\"reg\", diag_kind=\"kde\")"
   ]
  },
  {
   "cell_type": "code",
   "execution_count": 72,
   "id": "b853d813-b2d8-4fc1-8b30-5994c1eb4717",
   "metadata": {},
   "outputs": [
    {
     "data": {
      "text/html": [
       "<div>\n",
       "<style scoped>\n",
       "    .dataframe tbody tr th:only-of-type {\n",
       "        vertical-align: middle;\n",
       "    }\n",
       "\n",
       "    .dataframe tbody tr th {\n",
       "        vertical-align: top;\n",
       "    }\n",
       "\n",
       "    .dataframe thead th {\n",
       "        text-align: right;\n",
       "    }\n",
       "</style>\n",
       "<table border=\"1\" class=\"dataframe\">\n",
       "  <thead>\n",
       "    <tr style=\"text-align: right;\">\n",
       "      <th></th>\n",
       "      <th>geometry</th>\n",
       "      <th>Number of Terror events</th>\n",
       "      <th>Log_Pop_Den</th>\n",
       "      <th>km6cls</th>\n",
       "    </tr>\n",
       "  </thead>\n",
       "  <tbody>\n",
       "    <tr>\n",
       "      <th>0</th>\n",
       "      <td>POLYGON ((1360350.985 2065240.167, 1360711.674...</td>\n",
       "      <td>0.067882</td>\n",
       "      <td>0.728476</td>\n",
       "      <td>3</td>\n",
       "    </tr>\n",
       "    <tr>\n",
       "      <th>1</th>\n",
       "      <td>MULTIPOLYGON (((1366173.997 1757168.684, 13662...</td>\n",
       "      <td>0.029613</td>\n",
       "      <td>0.731834</td>\n",
       "      <td>3</td>\n",
       "    </tr>\n",
       "    <tr>\n",
       "      <th>2</th>\n",
       "      <td>POLYGON ((1393141.870 1944376.654, 1393406.699...</td>\n",
       "      <td>0.057403</td>\n",
       "      <td>0.790569</td>\n",
       "      <td>3</td>\n",
       "    </tr>\n",
       "  </tbody>\n",
       "</table>\n",
       "</div>"
      ],
      "text/plain": [
       "                                            geometry  Number of Terror events  \\\n",
       "0  POLYGON ((1360350.985 2065240.167, 1360711.674...                 0.067882   \n",
       "1  MULTIPOLYGON (((1366173.997 1757168.684, 13662...                 0.029613   \n",
       "2  POLYGON ((1393141.870 1944376.654, 1393406.699...                 0.057403   \n",
       "\n",
       "   Log_Pop_Den  km6cls  \n",
       "0     0.728476       3  \n",
       "1     0.731834       3  \n",
       "2     0.790569       3  "
      ]
     },
     "execution_count": 72,
     "metadata": {},
     "output_type": "execute_result"
    }
   ],
   "source": [
    "terror_scaled.head(3)"
   ]
  },
  {
   "cell_type": "code",
   "execution_count": 73,
   "id": "3404eb06-428b-40fe-8f8c-0faba427f2ce",
   "metadata": {},
   "outputs": [],
   "source": [
    "terror_agg = robust_scale(terror_scaled[cluster_variables])"
   ]
  },
  {
   "cell_type": "code",
   "execution_count": 75,
   "id": "99fb6905-d807-4ee8-b5da-c764c5f4682d",
   "metadata": {},
   "outputs": [
    {
     "data": {
      "text/plain": [
       "AgglomerativeClustering(connectivity=<76x76 sparse matrix of type '<class 'numpy.float64'>'\n",
       "\twith 374 stored elements in Compressed Sparse Row format>,\n",
       "                        n_clusters=6)"
      ]
     },
     "execution_count": 75,
     "metadata": {},
     "output_type": "execute_result"
    }
   ],
   "source": [
    "# Specify cluster model with queen's case spatial constraint\n",
    "model = AgglomerativeClustering(linkage=\"ward\", connectivity=w.sparse, n_clusters=6)\n",
    "# Fit algorithm to the data\n",
    "model.fit(terror_agg)"
   ]
  },
  {
   "cell_type": "code",
   "execution_count": 105,
   "id": "84f58479-95b8-4643-bbc2-186ee49e51fa",
   "metadata": {},
   "outputs": [
    {
     "data": {
      "image/png": "[encoded data removed]",
      "text/plain": [
       "<Figure size 648x648 with 1 Axes>"
      ]
     },
     "metadata": {},
     "output_type": "display_data"
    }
   ],
   "source": [
    "terror_scaled[\"ward6wq\"] = model.labels_\n",
    "# Setup figure and ax\n",
    "f, ax = plt.subplots(1, figsize=(9, 9))\n",
    "# Plot unique values choropleth including a legend and with no boundary lines\n",
    "terror_scaled.plot(\n",
    "    column=\"ward6wq\",\n",
    "    categorical=True,\n",
    "    legend=True,\n",
    "    linewidth=0,\n",
    "    ax=ax,\n",
    ")\n",
    "# Remove axis\n",
    "ax.set_axis_off()\n",
    "# Display the map\n",
    "plt.show()"
   ]
  },
  {
   "cell_type": "markdown",
   "id": "53738579-de5a-441a-9a32-0f8326dc079e",
   "metadata": {},
   "source": [
    "## Create a df from each unique region where there are more than 1 district"
   ]
  },
  {
   "cell_type": "code",
   "execution_count": 81,
   "id": "027ab31c-bf6f-4620-a195-11e8b17da497",
   "metadata": {},
   "outputs": [],
   "source": [
    "reg0 = terror_scaled.loc[terror_scaled['ward6wq'] == 0]\n",
    "reg1 = terror_scaled.loc[terror_scaled['ward6wq'] == 1]\n",
    "reg2 = terror_scaled.loc[terror_scaled['ward6wq'] == 2]\n",
    "reg3 = terror_scaled.loc[terror_scaled['ward6wq'] == 3]\n",
    "reg4 = terror_scaled.loc[terror_scaled['ward6wq'] == 4]\n",
    "reg5 = terror_scaled.loc[terror_scaled['ward6wq'] == 5]"
   ]
  },
  {
   "cell_type": "markdown",
   "id": "d3cc58cc-b08c-47b0-a2f3-c0772e51b14a",
   "metadata": {},
   "source": [
    "## Calculate Moran's I and P- value for each region with more than 1 district"
   ]
  },
  {
   "cell_type": "code",
   "execution_count": 110,
   "id": "0d13a0fd-3322-4735-9a31-24ee9650bb7e",
   "metadata": {},
   "outputs": [],
   "source": [
    "def Morans_(region_df, region_num):\n",
    "    terror = region_df.loc[region_df['ward6wq'] == region_num]\n",
    "    w = Queen.from_dataframe(terror)\n",
    "    mi_results = [Moran(terror[variable],w) for variable in cluster_variables]\n",
    "    mi_results = [(variable, res.I, res.p_sim) for variable, res in zip(cluster_variables, mi_results)]\n",
    "    table = pd.DataFrame(mi_results, columns=[\"Variable\", \"Moran's I\", \"P-value\"]).set_index(\"Variable\")\n",
    "    return table"
   ]
  },
  {
   "cell_type": "markdown",
   "id": "efca08b1-fa55-437d-af9b-418c899aaf84",
   "metadata": {},
   "source": [
    "**Region 0**"
   ]
  },
  {
   "cell_type": "code",
   "execution_count": 111,
   "id": "1afb0968-dae1-4ffd-a9f6-7d6443e2ce2f",
   "metadata": {},
   "outputs": [
    {
     "data": {
      "text/html": [
       "<div>\n",
       "<style scoped>\n",
       "    .dataframe tbody tr th:only-of-type {\n",
       "        vertical-align: middle;\n",
       "    }\n",
       "\n",
       "    .dataframe tbody tr th {\n",
       "        vertical-align: top;\n",
       "    }\n",
       "\n",
       "    .dataframe thead th {\n",
       "        text-align: right;\n",
       "    }\n",
       "</style>\n",
       "<table border=\"1\" class=\"dataframe\">\n",
       "  <thead>\n",
       "    <tr style=\"text-align: right;\">\n",
       "      <th></th>\n",
       "      <th>Moran's I</th>\n",
       "      <th>P-value</th>\n",
       "    </tr>\n",
       "    <tr>\n",
       "      <th>Variable</th>\n",
       "      <th></th>\n",
       "      <th></th>\n",
       "    </tr>\n",
       "  </thead>\n",
       "  <tbody>\n",
       "    <tr>\n",
       "      <th>Number of Terror events</th>\n",
       "      <td>0.126557</td>\n",
       "      <td>0.131</td>\n",
       "    </tr>\n",
       "    <tr>\n",
       "      <th>Log_Pop_Den</th>\n",
       "      <td>0.293257</td>\n",
       "      <td>0.009</td>\n",
       "    </tr>\n",
       "  </tbody>\n",
       "</table>\n",
       "</div>"
      ],
      "text/plain": [
       "                         Moran's I  P-value\n",
       "Variable                                   \n",
       "Number of Terror events   0.126557    0.131\n",
       "Log_Pop_Den               0.293257    0.009"
      ]
     },
     "execution_count": 111,
     "metadata": {},
     "output_type": "execute_result"
    }
   ],
   "source": [
    "Morans_(reg0,0)"
   ]
  },
  {
   "cell_type": "markdown",
   "id": "81f1b9a3-057e-4d9c-98ff-4720ab61f821",
   "metadata": {},
   "source": [
    "**Region 1**"
   ]
  },
  {
   "cell_type": "code",
   "execution_count": 112,
   "id": "549fa3fc-67d2-468b-98e6-78683203458d",
   "metadata": {},
   "outputs": [
    {
     "data": {
      "text/html": [
       "<div>\n",
       "<style scoped>\n",
       "    .dataframe tbody tr th:only-of-type {\n",
       "        vertical-align: middle;\n",
       "    }\n",
       "\n",
       "    .dataframe tbody tr th {\n",
       "        vertical-align: top;\n",
       "    }\n",
       "\n",
       "    .dataframe thead th {\n",
       "        text-align: right;\n",
       "    }\n",
       "</style>\n",
       "<table border=\"1\" class=\"dataframe\">\n",
       "  <thead>\n",
       "    <tr style=\"text-align: right;\">\n",
       "      <th></th>\n",
       "      <th>Moran's I</th>\n",
       "      <th>P-value</th>\n",
       "    </tr>\n",
       "    <tr>\n",
       "      <th>Variable</th>\n",
       "      <th></th>\n",
       "      <th></th>\n",
       "    </tr>\n",
       "  </thead>\n",
       "  <tbody>\n",
       "    <tr>\n",
       "      <th>Number of Terror events</th>\n",
       "      <td>0.030366</td>\n",
       "      <td>0.203</td>\n",
       "    </tr>\n",
       "    <tr>\n",
       "      <th>Log_Pop_Den</th>\n",
       "      <td>0.066947</td>\n",
       "      <td>0.183</td>\n",
       "    </tr>\n",
       "  </tbody>\n",
       "</table>\n",
       "</div>"
      ],
      "text/plain": [
       "                         Moran's I  P-value\n",
       "Variable                                   \n",
       "Number of Terror events   0.030366    0.203\n",
       "Log_Pop_Den               0.066947    0.183"
      ]
     },
     "execution_count": 112,
     "metadata": {},
     "output_type": "execute_result"
    }
   ],
   "source": [
    "Morans_(reg1,1)"
   ]
  },
  {
   "cell_type": "markdown",
   "id": "c103bf2f-1f1e-418f-a09f-57b419dc10b4",
   "metadata": {},
   "source": [
    "**Region 2**"
   ]
  },
  {
   "cell_type": "code",
   "execution_count": 113,
   "id": "d383b42b-6c9c-40ac-90c3-7c2efafd9c41",
   "metadata": {},
   "outputs": [
    {
     "data": {
      "text/html": [
       "<div>\n",
       "<style scoped>\n",
       "    .dataframe tbody tr th:only-of-type {\n",
       "        vertical-align: middle;\n",
       "    }\n",
       "\n",
       "    .dataframe tbody tr th {\n",
       "        vertical-align: top;\n",
       "    }\n",
       "\n",
       "    .dataframe thead th {\n",
       "        text-align: right;\n",
       "    }\n",
       "</style>\n",
       "<table border=\"1\" class=\"dataframe\">\n",
       "  <thead>\n",
       "    <tr style=\"text-align: right;\">\n",
       "      <th></th>\n",
       "      <th>Moran's I</th>\n",
       "      <th>P-value</th>\n",
       "    </tr>\n",
       "    <tr>\n",
       "      <th>Variable</th>\n",
       "      <th></th>\n",
       "      <th></th>\n",
       "    </tr>\n",
       "  </thead>\n",
       "  <tbody>\n",
       "    <tr>\n",
       "      <th>Number of Terror events</th>\n",
       "      <td>0.475496</td>\n",
       "      <td>0.019</td>\n",
       "    </tr>\n",
       "    <tr>\n",
       "      <th>Log_Pop_Den</th>\n",
       "      <td>0.650342</td>\n",
       "      <td>0.003</td>\n",
       "    </tr>\n",
       "  </tbody>\n",
       "</table>\n",
       "</div>"
      ],
      "text/plain": [
       "                         Moran's I  P-value\n",
       "Variable                                   \n",
       "Number of Terror events   0.475496    0.019\n",
       "Log_Pop_Den               0.650342    0.003"
      ]
     },
     "execution_count": 113,
     "metadata": {},
     "output_type": "execute_result"
    }
   ],
   "source": [
    "Morans_(reg2,2)"
   ]
  },
  {
   "cell_type": "markdown",
   "id": "cc1837a7-4c24-440a-8c4c-1bdf9103f3de",
   "metadata": {},
   "source": [
    "**Region 3**"
   ]
  },
  {
   "cell_type": "code",
   "execution_count": 114,
   "id": "e6fa1937-ff34-4813-9a3d-a6ec0b7ac883",
   "metadata": {},
   "outputs": [
    {
     "data": {
      "text/html": [
       "<div>\n",
       "<style scoped>\n",
       "    .dataframe tbody tr th:only-of-type {\n",
       "        vertical-align: middle;\n",
       "    }\n",
       "\n",
       "    .dataframe tbody tr th {\n",
       "        vertical-align: top;\n",
       "    }\n",
       "\n",
       "    .dataframe thead th {\n",
       "        text-align: right;\n",
       "    }\n",
       "</style>\n",
       "<table border=\"1\" class=\"dataframe\">\n",
       "  <thead>\n",
       "    <tr style=\"text-align: right;\">\n",
       "      <th></th>\n",
       "      <th>Moran's I</th>\n",
       "      <th>P-value</th>\n",
       "    </tr>\n",
       "    <tr>\n",
       "      <th>Variable</th>\n",
       "      <th></th>\n",
       "      <th></th>\n",
       "    </tr>\n",
       "  </thead>\n",
       "  <tbody>\n",
       "    <tr>\n",
       "      <th>Number of Terror events</th>\n",
       "      <td>-0.491602</td>\n",
       "      <td>0.053</td>\n",
       "    </tr>\n",
       "    <tr>\n",
       "      <th>Log_Pop_Den</th>\n",
       "      <td>-0.004950</td>\n",
       "      <td>0.156</td>\n",
       "    </tr>\n",
       "  </tbody>\n",
       "</table>\n",
       "</div>"
      ],
      "text/plain": [
       "                         Moran's I  P-value\n",
       "Variable                                   \n",
       "Number of Terror events  -0.491602    0.053\n",
       "Log_Pop_Den              -0.004950    0.156"
      ]
     },
     "execution_count": 114,
     "metadata": {},
     "output_type": "execute_result"
    }
   ],
   "source": [
    "Morans_(reg3,3)"
   ]
  },
  {
   "cell_type": "markdown",
   "id": "395d0452-cf18-4f8e-9a66-387aeeb28866",
   "metadata": {},
   "source": [
    "**Region 4**"
   ]
  },
  {
   "cell_type": "code",
   "execution_count": 115,
   "id": "f6019e36-34b1-41b8-b4f1-4de1b16a8fc4",
   "metadata": {},
   "outputs": [
    {
     "data": {
      "text/html": [
       "<div>\n",
       "<style scoped>\n",
       "    .dataframe tbody tr th:only-of-type {\n",
       "        vertical-align: middle;\n",
       "    }\n",
       "\n",
       "    .dataframe tbody tr th {\n",
       "        vertical-align: top;\n",
       "    }\n",
       "\n",
       "    .dataframe thead th {\n",
       "        text-align: right;\n",
       "    }\n",
       "</style>\n",
       "<table border=\"1\" class=\"dataframe\">\n",
       "  <thead>\n",
       "    <tr style=\"text-align: right;\">\n",
       "      <th></th>\n",
       "      <th>Moran's I</th>\n",
       "      <th>P-value</th>\n",
       "    </tr>\n",
       "    <tr>\n",
       "      <th>Variable</th>\n",
       "      <th></th>\n",
       "      <th></th>\n",
       "    </tr>\n",
       "  </thead>\n",
       "  <tbody>\n",
       "    <tr>\n",
       "      <th>Number of Terror events</th>\n",
       "      <td>0.639405</td>\n",
       "      <td>0.002</td>\n",
       "    </tr>\n",
       "    <tr>\n",
       "      <th>Log_Pop_Den</th>\n",
       "      <td>0.293474</td>\n",
       "      <td>0.053</td>\n",
       "    </tr>\n",
       "  </tbody>\n",
       "</table>\n",
       "</div>"
      ],
      "text/plain": [
       "                         Moran's I  P-value\n",
       "Variable                                   \n",
       "Number of Terror events   0.639405    0.002\n",
       "Log_Pop_Den               0.293474    0.053"
      ]
     },
     "execution_count": 115,
     "metadata": {},
     "output_type": "execute_result"
    }
   ],
   "source": [
    "Morans_(reg4,4)"
   ]
  },
  {
   "cell_type": "markdown",
   "id": "dec469b4-7c3b-470a-9a2c-ef52046c6ea3",
   "metadata": {},
   "source": [
    "**Region 5**"
   ]
  },
  {
   "cell_type": "code",
   "execution_count": 116,
   "id": "ee87ada3-5354-4e3d-9200-46d3163908ca",
   "metadata": {},
   "outputs": [
    {
     "data": {
      "text/html": [
       "<div>\n",
       "<style scoped>\n",
       "    .dataframe tbody tr th:only-of-type {\n",
       "        vertical-align: middle;\n",
       "    }\n",
       "\n",
       "    .dataframe tbody tr th {\n",
       "        vertical-align: top;\n",
       "    }\n",
       "\n",
       "    .dataframe thead th {\n",
       "        text-align: right;\n",
       "    }\n",
       "</style>\n",
       "<table border=\"1\" class=\"dataframe\">\n",
       "  <thead>\n",
       "    <tr style=\"text-align: right;\">\n",
       "      <th></th>\n",
       "      <th>Moran's I</th>\n",
       "      <th>P-value</th>\n",
       "    </tr>\n",
       "    <tr>\n",
       "      <th>Variable</th>\n",
       "      <th></th>\n",
       "      <th></th>\n",
       "    </tr>\n",
       "  </thead>\n",
       "  <tbody>\n",
       "    <tr>\n",
       "      <th>Number of Terror events</th>\n",
       "      <td>-0.423941</td>\n",
       "      <td>0.420</td>\n",
       "    </tr>\n",
       "    <tr>\n",
       "      <th>Log_Pop_Den</th>\n",
       "      <td>-0.240163</td>\n",
       "      <td>0.408</td>\n",
       "    </tr>\n",
       "  </tbody>\n",
       "</table>\n",
       "</div>"
      ],
      "text/plain": [
       "                         Moran's I  P-value\n",
       "Variable                                   \n",
       "Number of Terror events  -0.423941    0.420\n",
       "Log_Pop_Den              -0.240163    0.408"
      ]
     },
     "execution_count": 116,
     "metadata": {},
     "output_type": "execute_result"
    }
   ],
   "source": [
    "Morans_(reg5,5)"
   ]
  },
  {
   "cell_type": "markdown",
   "id": "ed7c5134-4d2b-4bf1-9b9f-3454c1a936dd",
   "metadata": {},
   "source": [
    "## Calculate correlation coefficient or ratio for each region individually"
   ]
  },
  {
   "cell_type": "code",
   "execution_count": 117,
   "id": "166d9612-a4ac-4a90-80f2-87adb6ad9753",
   "metadata": {},
   "outputs": [
    {
     "data": {
      "text/plain": [
       "Index(['geometry', 'Number of Terror events', 'Log_Pop_Den', 'km6cls',\n",
       "       'ward6wq', 'ratio'],\n",
       "      dtype='object')"
      ]
     },
     "execution_count": 117,
     "metadata": {},
     "output_type": "execute_result"
    }
   ],
   "source": [
    "terror_scaled.columns"
   ]
  },
  {
   "cell_type": "code",
   "execution_count": 118,
   "id": "e0411aad-94de-4ad0-9d61-633f8cb0b224",
   "metadata": {},
   "outputs": [],
   "source": [
    "terror_scaled['ratio'] = terror_scaled['Number of Terror events'] / terror_scaled['Log_Pop_Den']"
   ]
  },
  {
   "cell_type": "code",
   "execution_count": 119,
   "id": "1ff2ac3f-3606-4e79-b42f-203a98cda674",
   "metadata": {
    "scrolled": true,
    "tags": []
   },
   "outputs": [
    {
     "data": {
      "text/html": [
       "<div>\n",
       "<style scoped>\n",
       "    .dataframe tbody tr th:only-of-type {\n",
       "        vertical-align: middle;\n",
       "    }\n",
       "\n",
       "    .dataframe tbody tr th {\n",
       "        vertical-align: top;\n",
       "    }\n",
       "\n",
       "    .dataframe thead th {\n",
       "        text-align: right;\n",
       "    }\n",
       "</style>\n",
       "<table border=\"1\" class=\"dataframe\">\n",
       "  <thead>\n",
       "    <tr style=\"text-align: right;\">\n",
       "      <th></th>\n",
       "      <th>geometry</th>\n",
       "      <th>Number of Terror events</th>\n",
       "      <th>Log_Pop_Den</th>\n",
       "      <th>km6cls</th>\n",
       "      <th>ward6wq</th>\n",
       "      <th>ratio</th>\n",
       "    </tr>\n",
       "  </thead>\n",
       "  <tbody>\n",
       "    <tr>\n",
       "      <th>79</th>\n",
       "      <td>POLYGON ((1690726.366 2643041.548, 1691174.023...</td>\n",
       "      <td>0.200456</td>\n",
       "      <td>0.516570</td>\n",
       "      <td>0</td>\n",
       "      <td>0</td>\n",
       "      <td>0.388051</td>\n",
       "    </tr>\n",
       "    <tr>\n",
       "      <th>33</th>\n",
       "      <td>POLYGON ((1531089.412 2496441.310, 1531517.307...</td>\n",
       "      <td>0.247380</td>\n",
       "      <td>0.631310</td>\n",
       "      <td>2</td>\n",
       "      <td>0</td>\n",
       "      <td>0.391852</td>\n",
       "    </tr>\n",
       "    <tr>\n",
       "      <th>36</th>\n",
       "      <td>MULTIPOLYGON (((1720785.858 1291186.358, 17211...</td>\n",
       "      <td>0.178132</td>\n",
       "      <td>0.442853</td>\n",
       "      <td>0</td>\n",
       "      <td>0</td>\n",
       "      <td>0.402238</td>\n",
       "    </tr>\n",
       "    <tr>\n",
       "      <th>31</th>\n",
       "      <td>POLYGON ((1404767.494 2483235.091, 1405913.545...</td>\n",
       "      <td>0.299317</td>\n",
       "      <td>0.790702</td>\n",
       "      <td>2</td>\n",
       "      <td>0</td>\n",
       "      <td>0.378546</td>\n",
       "    </tr>\n",
       "    <tr>\n",
       "      <th>78</th>\n",
       "      <td>POLYGON ((1586093.604 2616497.815, 1586812.161...</td>\n",
       "      <td>0.523007</td>\n",
       "      <td>0.472548</td>\n",
       "      <td>1</td>\n",
       "      <td>0</td>\n",
       "      <td>1.106780</td>\n",
       "    </tr>\n",
       "    <tr>\n",
       "      <th>...</th>\n",
       "      <td>...</td>\n",
       "      <td>...</td>\n",
       "      <td>...</td>\n",
       "      <td>...</td>\n",
       "      <td>...</td>\n",
       "      <td>...</td>\n",
       "    </tr>\n",
       "    <tr>\n",
       "      <th>30</th>\n",
       "      <td>MULTIPOLYGON (((1308038.043 2871386.892, 13082...</td>\n",
       "      <td>0.006834</td>\n",
       "      <td>0.163445</td>\n",
       "      <td>4</td>\n",
       "      <td>4</td>\n",
       "      <td>0.041811</td>\n",
       "    </tr>\n",
       "    <tr>\n",
       "      <th>71</th>\n",
       "      <td>POLYGON ((1679144.072 2717161.815, 1679093.533...</td>\n",
       "      <td>0.762642</td>\n",
       "      <td>0.550748</td>\n",
       "      <td>5</td>\n",
       "      <td>5</td>\n",
       "      <td>1.384740</td>\n",
       "    </tr>\n",
       "    <tr>\n",
       "      <th>16</th>\n",
       "      <td>POLYGON ((1504668.936 3038608.167, 1505307.543...</td>\n",
       "      <td>0.476082</td>\n",
       "      <td>0.298442</td>\n",
       "      <td>1</td>\n",
       "      <td>5</td>\n",
       "      <td>1.595225</td>\n",
       "    </tr>\n",
       "    <tr>\n",
       "      <th>15</th>\n",
       "      <td>POLYGON ((1427749.991 2922786.651, 1427778.580...</td>\n",
       "      <td>0.469248</td>\n",
       "      <td>0.505524</td>\n",
       "      <td>1</td>\n",
       "      <td>5</td>\n",
       "      <td>0.928242</td>\n",
       "    </tr>\n",
       "    <tr>\n",
       "      <th>14</th>\n",
       "      <td>POLYGON ((1533873.852 2792697.702, 1533894.369...</td>\n",
       "      <td>0.360820</td>\n",
       "      <td>0.444850</td>\n",
       "      <td>1</td>\n",
       "      <td>5</td>\n",
       "      <td>0.811105</td>\n",
       "    </tr>\n",
       "  </tbody>\n",
       "</table>\n",
       "<p>76 rows × 6 columns</p>\n",
       "</div>"
      ],
      "text/plain": [
       "                                             geometry  \\\n",
       "79  POLYGON ((1690726.366 2643041.548, 1691174.023...   \n",
       "33  POLYGON ((1531089.412 2496441.310, 1531517.307...   \n",
       "36  MULTIPOLYGON (((1720785.858 1291186.358, 17211...   \n",
       "31  POLYGON ((1404767.494 2483235.091, 1405913.545...   \n",
       "78  POLYGON ((1586093.604 2616497.815, 1586812.161...   \n",
       "..                                                ...   \n",
       "30  MULTIPOLYGON (((1308038.043 2871386.892, 13082...   \n",
       "71  POLYGON ((1679144.072 2717161.815, 1679093.533...   \n",
       "16  POLYGON ((1504668.936 3038608.167, 1505307.543...   \n",
       "15  POLYGON ((1427749.991 2922786.651, 1427778.580...   \n",
       "14  POLYGON ((1533873.852 2792697.702, 1533894.369...   \n",
       "\n",
       "    Number of Terror events  Log_Pop_Den  km6cls  ward6wq     ratio  \n",
       "79                 0.200456     0.516570       0        0  0.388051  \n",
       "33                 0.247380     0.631310       2        0  0.391852  \n",
       "36                 0.178132     0.442853       0        0  0.402238  \n",
       "31                 0.299317     0.790702       2        0  0.378546  \n",
       "78                 0.523007     0.472548       1        0  1.106780  \n",
       "..                      ...          ...     ...      ...       ...  \n",
       "30                 0.006834     0.163445       4        4  0.041811  \n",
       "71                 0.762642     0.550748       5        5  1.384740  \n",
       "16                 0.476082     0.298442       1        5  1.595225  \n",
       "15                 0.469248     0.505524       1        5  0.928242  \n",
       "14                 0.360820     0.444850       1        5  0.811105  \n",
       "\n",
       "[76 rows x 6 columns]"
      ]
     },
     "execution_count": 119,
     "metadata": {},
     "output_type": "execute_result"
    }
   ],
   "source": [
    "terror_scaled.sort_values(by=['ward6wq'])"
   ]
  },
  {
   "cell_type": "code",
   "execution_count": 120,
   "id": "00595231-e535-44b5-95b2-1136a02b495c",
   "metadata": {},
   "outputs": [
    {
     "name": "stdout",
     "output_type": "stream",
     "text": [
      "The correlation coefficient between Number of Terror Events and Population Density for region 0 is: 0.2708242696957384\n",
      "\n",
      "The correlation coefficient between Number of Terror Events and Population Density for region 1 is: 0.584739088398149\n",
      "\n",
      "The correlation coefficient between Number of Terror Events and Population Density for region 2 is: 0.5575864045750044\n",
      "\n",
      "The correlation coefficient between Number of Terror Events and Population Density for region 3 is: -0.20067196995522513\n",
      "\n",
      "The correlation coefficient between Number of Terror Events and Population Density for region 4 is: -0.24287623718771215\n",
      "\n",
      "The correlation coefficient between Number of Terror Events and Population Density for region 5 is: 0.5134165064072143\n",
      "\n"
     ]
    }
   ],
   "source": [
    "i=0\n",
    "dict_of_cor = {'region':[],'correlation coefficient':[]}\n",
    "while i<6:\n",
    "    temp_terr = terror_scaled.loc[terror_scaled['ward6wq'] == i]\n",
    "    if len(temp_terr) > 1:\n",
    "        corr = temp_terr['Number of Terror events'].corr(temp_terr['Log_Pop_Den'])\n",
    "        dict_of_cor['region'].append(i)\n",
    "        dict_of_cor['correlation coefficient'].append(corr)\n",
    "        print (\"The correlation coefficient between Number of Terror Events and Population Density for region \" + str(i) + \" is: \" + str(corr) + \"\\n\" )\n",
    "    else:\n",
    "        if temp_terr.iloc[0,2] == 0:\n",
    "            print (\"This region has a population of 0 \\n\")\n",
    "        else: \n",
    "            ratio = float(temp_terr['ratio'])\n",
    "            print(\"The Number of Terror Events to Population Density ratio for region \" + str(i) + \" is: \" + str(ratio) + \"\\n\")\n",
    "    i += 1"
   ]
  },
  {
   "cell_type": "markdown",
   "id": "6b7f152b-cdbf-420e-b54d-a948db921e5b",
   "metadata": {},
   "source": [
    "**To remind ourselves of the global correlation coefficient:**"
   ]
  },
  {
   "cell_type": "code",
   "execution_count": 121,
   "id": "3abc81aa-97e9-4198-8f14-6e3e95823632",
   "metadata": {},
   "outputs": [
    {
     "data": {
      "text/plain": [
       "0.16880675211516763"
      ]
     },
     "execution_count": 121,
     "metadata": {},
     "output_type": "execute_result"
    }
   ],
   "source": [
    "terror_scaled['Number of Terror events'].corr(terror_scaled['Log_Pop_Den'])"
   ]
  },
  {
   "cell_type": "code",
   "execution_count": 123,
   "id": "2616aa2b-8cf1-48a0-a727-b94118b590ff",
   "metadata": {},
   "outputs": [
    {
     "name": "stdout",
     "output_type": "stream",
     "text": [
      "The average correlation coefficient after regionalization is: 0.24716967698886147\n"
     ]
    },
    {
     "data": {
      "text/html": [
       "<div>\n",
       "<style scoped>\n",
       "    .dataframe tbody tr th:only-of-type {\n",
       "        vertical-align: middle;\n",
       "    }\n",
       "\n",
       "    .dataframe tbody tr th {\n",
       "        vertical-align: top;\n",
       "    }\n",
       "\n",
       "    .dataframe thead th {\n",
       "        text-align: right;\n",
       "    }\n",
       "</style>\n",
       "<table border=\"1\" class=\"dataframe\">\n",
       "  <thead>\n",
       "    <tr style=\"text-align: right;\">\n",
       "      <th></th>\n",
       "      <th>region</th>\n",
       "      <th>correlation coefficient</th>\n",
       "    </tr>\n",
       "  </thead>\n",
       "  <tbody>\n",
       "    <tr>\n",
       "      <th>0</th>\n",
       "      <td>0</td>\n",
       "      <td>0.270824</td>\n",
       "    </tr>\n",
       "    <tr>\n",
       "      <th>1</th>\n",
       "      <td>1</td>\n",
       "      <td>0.584739</td>\n",
       "    </tr>\n",
       "    <tr>\n",
       "      <th>2</th>\n",
       "      <td>2</td>\n",
       "      <td>0.557586</td>\n",
       "    </tr>\n",
       "    <tr>\n",
       "      <th>3</th>\n",
       "      <td>3</td>\n",
       "      <td>-0.200672</td>\n",
       "    </tr>\n",
       "    <tr>\n",
       "      <th>4</th>\n",
       "      <td>4</td>\n",
       "      <td>-0.242876</td>\n",
       "    </tr>\n",
       "    <tr>\n",
       "      <th>5</th>\n",
       "      <td>5</td>\n",
       "      <td>0.513417</td>\n",
       "    </tr>\n",
       "  </tbody>\n",
       "</table>\n",
       "</div>"
      ],
      "text/plain": [
       "   region  correlation coefficient\n",
       "0       0                 0.270824\n",
       "1       1                 0.584739\n",
       "2       2                 0.557586\n",
       "3       3                -0.200672\n",
       "4       4                -0.242876\n",
       "5       5                 0.513417"
      ]
     },
     "execution_count": 123,
     "metadata": {},
     "output_type": "execute_result"
    }
   ],
   "source": [
    "corr_df = pd.DataFrame.from_dict(dict_of_cor)\n",
    "print(\"The average correlation coefficient after regionalization is: \" + str(corr_df['correlation coefficient'].mean()))\n",
    "corr_df"
   ]
  },
  {
   "cell_type": "code",
   "execution_count": null,
   "id": "2a5883aa-15e6-494a-a90f-d8f1458d196e",
   "metadata": {},
   "outputs": [],
   "source": []
  }
 ],
 "metadata": {
  "kernelspec": {
   "display_name": "Python 3",
   "language": "python",
   "name": "python3"
  },
  "language_info": {
   "codemirror_mode": {
    "name": "ipython",
    "version": 3
   },
   "file_extension": ".py",
   "mimetype": "text/x-python",
   "name": "python",
   "nbconvert_exporter": "python",
   "pygments_lexer": "ipython3",
   "version": "3.8.8"
  }
 },
 "nbformat": 4,
 "nbformat_minor": 5
}
